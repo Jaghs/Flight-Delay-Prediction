{
 "cells": [
  {
   "cell_type": "code",
   "execution_count": 11,
   "id": "2772ed05-4c61-4f59-92e7-6854ba965fba",
   "metadata": {
    "tags": []
   },
   "outputs": [],
   "source": [
    "# import libraries\n",
    "import pandas as pd\n",
    "import numpy as np\n",
    "from sklearn.model_selection import train_test_split"
   ]
  },
  {
   "cell_type": "markdown",
   "id": "840c5ab1-767a-49c3-80b4-f2f521a2b7b6",
   "metadata": {},
   "source": [
    "# Splitting Dataset into Train & Test"
   ]
  },
  {
   "cell_type": "code",
   "execution_count": 12,
   "id": "66857731-01cc-4e65-bd46-a95eec6333b9",
   "metadata": {
    "tags": []
   },
   "outputs": [
    {
     "data": {
      "text/html": [
       "<div>\n",
       "<style scoped>\n",
       "    .dataframe tbody tr th:only-of-type {\n",
       "        vertical-align: middle;\n",
       "    }\n",
       "\n",
       "    .dataframe tbody tr th {\n",
       "        vertical-align: top;\n",
       "    }\n",
       "\n",
       "    .dataframe thead th {\n",
       "        text-align: right;\n",
       "    }\n",
       "</style>\n",
       "<table border=\"1\" class=\"dataframe\">\n",
       "  <thead>\n",
       "    <tr style=\"text-align: right;\">\n",
       "      <th></th>\n",
       "      <th>fl_date</th>\n",
       "      <th>unique_carrier</th>\n",
       "      <th>branded_code_share</th>\n",
       "      <th>mkt_carrier_fl_num</th>\n",
       "      <th>op_unique_carrier</th>\n",
       "      <th>op_carrier_fl_num</th>\n",
       "      <th>origin</th>\n",
       "      <th>origin_city_name</th>\n",
       "      <th>dest</th>\n",
       "      <th>dest_city_name</th>\n",
       "      <th>...</th>\n",
       "      <th>total_gallons</th>\n",
       "      <th>sdomt_cost</th>\n",
       "      <th>satl_cost</th>\n",
       "      <th>spac_cost</th>\n",
       "      <th>slat_cost</th>\n",
       "      <th>sint_cost</th>\n",
       "      <th>ts_cost</th>\n",
       "      <th>tdomt_cost</th>\n",
       "      <th>tint_cost</th>\n",
       "      <th>total_cost</th>\n",
       "    </tr>\n",
       "  </thead>\n",
       "  <tbody>\n",
       "    <tr>\n",
       "      <th>0</th>\n",
       "      <td>2018-06-17</td>\n",
       "      <td>F9</td>\n",
       "      <td>F9</td>\n",
       "      <td>1078</td>\n",
       "      <td>F9</td>\n",
       "      <td>1078</td>\n",
       "      <td>MSN</td>\n",
       "      <td>Madison, WI</td>\n",
       "      <td>PHL</td>\n",
       "      <td>Philadelphia, PA</td>\n",
       "      <td>...</td>\n",
       "      <td>22096787.0</td>\n",
       "      <td>41775934.0</td>\n",
       "      <td>0.0</td>\n",
       "      <td>0.0</td>\n",
       "      <td>5704097.0</td>\n",
       "      <td>5704097.0</td>\n",
       "      <td>47480031.0</td>\n",
       "      <td>41775934.0</td>\n",
       "      <td>5704097.0</td>\n",
       "      <td>47480031.0</td>\n",
       "    </tr>\n",
       "    <tr>\n",
       "      <th>1</th>\n",
       "      <td>2019-02-06</td>\n",
       "      <td>UA</td>\n",
       "      <td>UA_CODESHARE</td>\n",
       "      <td>3609</td>\n",
       "      <td>YX</td>\n",
       "      <td>3609</td>\n",
       "      <td>PIT</td>\n",
       "      <td>Pittsburgh, PA</td>\n",
       "      <td>EWR</td>\n",
       "      <td>Newark, NJ</td>\n",
       "      <td>...</td>\n",
       "      <td>244752372.0</td>\n",
       "      <td>229838806.0</td>\n",
       "      <td>91564050.0</td>\n",
       "      <td>91129457.0</td>\n",
       "      <td>58249915.0</td>\n",
       "      <td>240943422.0</td>\n",
       "      <td>470782228.0</td>\n",
       "      <td>231327828.0</td>\n",
       "      <td>241611991.0</td>\n",
       "      <td>472939819.0</td>\n",
       "    </tr>\n",
       "    <tr>\n",
       "      <th>2</th>\n",
       "      <td>2019-04-23</td>\n",
       "      <td>AA</td>\n",
       "      <td>AA_CODESHARE</td>\n",
       "      <td>5334</td>\n",
       "      <td>OH</td>\n",
       "      <td>5334</td>\n",
       "      <td>BHM</td>\n",
       "      <td>Birmingham, AL</td>\n",
       "      <td>CLT</td>\n",
       "      <td>Charlotte, NC</td>\n",
       "      <td>...</td>\n",
       "      <td>291008622.0</td>\n",
       "      <td>362560543.0</td>\n",
       "      <td>99573979.0</td>\n",
       "      <td>36677163.0</td>\n",
       "      <td>90155938.0</td>\n",
       "      <td>226407080.0</td>\n",
       "      <td>588967623.0</td>\n",
       "      <td>363320993.0</td>\n",
       "      <td>226648425.0</td>\n",
       "      <td>589969418.0</td>\n",
       "    </tr>\n",
       "    <tr>\n",
       "      <th>3</th>\n",
       "      <td>2019-04-25</td>\n",
       "      <td>UA</td>\n",
       "      <td>UA_CODESHARE</td>\n",
       "      <td>4844</td>\n",
       "      <td>ZW</td>\n",
       "      <td>4844</td>\n",
       "      <td>IND</td>\n",
       "      <td>Indianapolis, IN</td>\n",
       "      <td>IAD</td>\n",
       "      <td>Washington, DC</td>\n",
       "      <td>...</td>\n",
       "      <td>289084422.0</td>\n",
       "      <td>294430837.0</td>\n",
       "      <td>122350380.0</td>\n",
       "      <td>106637727.0</td>\n",
       "      <td>66383872.0</td>\n",
       "      <td>295371979.0</td>\n",
       "      <td>589802816.0</td>\n",
       "      <td>296103451.0</td>\n",
       "      <td>295602761.0</td>\n",
       "      <td>591706212.0</td>\n",
       "    </tr>\n",
       "    <tr>\n",
       "      <th>4</th>\n",
       "      <td>2019-11-07</td>\n",
       "      <td>B6</td>\n",
       "      <td>B6</td>\n",
       "      <td>782</td>\n",
       "      <td>B6</td>\n",
       "      <td>782</td>\n",
       "      <td>RIC</td>\n",
       "      <td>Richmond, VA</td>\n",
       "      <td>BOS</td>\n",
       "      <td>Boston, MA</td>\n",
       "      <td>...</td>\n",
       "      <td>NaN</td>\n",
       "      <td>NaN</td>\n",
       "      <td>NaN</td>\n",
       "      <td>NaN</td>\n",
       "      <td>NaN</td>\n",
       "      <td>NaN</td>\n",
       "      <td>NaN</td>\n",
       "      <td>NaN</td>\n",
       "      <td>NaN</td>\n",
       "      <td>NaN</td>\n",
       "    </tr>\n",
       "  </tbody>\n",
       "</table>\n",
       "<p>5 rows × 55 columns</p>\n",
       "</div>"
      ],
      "text/plain": [
       "      fl_date unique_carrier branded_code_share  mkt_carrier_fl_num  \\\n",
       "0  2018-06-17             F9                 F9                1078   \n",
       "1  2019-02-06             UA       UA_CODESHARE                3609   \n",
       "2  2019-04-23             AA       AA_CODESHARE                5334   \n",
       "3  2019-04-25             UA       UA_CODESHARE                4844   \n",
       "4  2019-11-07             B6                 B6                 782   \n",
       "\n",
       "  op_unique_carrier  op_carrier_fl_num origin  origin_city_name dest  \\\n",
       "0                F9               1078    MSN       Madison, WI  PHL   \n",
       "1                YX               3609    PIT    Pittsburgh, PA  EWR   \n",
       "2                OH               5334    BHM    Birmingham, AL  CLT   \n",
       "3                ZW               4844    IND  Indianapolis, IN  IAD   \n",
       "4                B6                782    RIC      Richmond, VA  BOS   \n",
       "\n",
       "     dest_city_name  ...  total_gallons   sdomt_cost    satl_cost  \\\n",
       "0  Philadelphia, PA  ...     22096787.0   41775934.0          0.0   \n",
       "1        Newark, NJ  ...    244752372.0  229838806.0   91564050.0   \n",
       "2     Charlotte, NC  ...    291008622.0  362560543.0   99573979.0   \n",
       "3    Washington, DC  ...    289084422.0  294430837.0  122350380.0   \n",
       "4        Boston, MA  ...            NaN          NaN          NaN   \n",
       "\n",
       "     spac_cost   slat_cost    sint_cost      ts_cost   tdomt_cost  \\\n",
       "0          0.0   5704097.0    5704097.0   47480031.0   41775934.0   \n",
       "1   91129457.0  58249915.0  240943422.0  470782228.0  231327828.0   \n",
       "2   36677163.0  90155938.0  226407080.0  588967623.0  363320993.0   \n",
       "3  106637727.0  66383872.0  295371979.0  589802816.0  296103451.0   \n",
       "4          NaN         NaN          NaN          NaN          NaN   \n",
       "\n",
       "     tint_cost   total_cost  \n",
       "0    5704097.0   47480031.0  \n",
       "1  241611991.0  472939819.0  \n",
       "2  226648425.0  589969418.0  \n",
       "3  295602761.0  591706212.0  \n",
       "4          NaN          NaN  \n",
       "\n",
       "[5 rows x 55 columns]"
      ]
     },
     "execution_count": 12,
     "metadata": {},
     "output_type": "execute_result"
    }
   ],
   "source": [
    "# load data\n",
    "flights_df = pd.read_csv('data/all_features.csv', sep = ',')\n",
    "flights_df.head()"
   ]
  },
  {
   "cell_type": "code",
   "execution_count": 13,
   "id": "bb50c6da-ef41-4116-beed-b50b180b35fb",
   "metadata": {
    "tags": []
   },
   "outputs": [
    {
     "data": {
      "text/plain": [
       "(97958, 55)"
      ]
     },
     "execution_count": 13,
     "metadata": {},
     "output_type": "execute_result"
    }
   ],
   "source": [
    "flights_df.shape"
   ]
  },
  {
   "cell_type": "code",
   "execution_count": 15,
   "id": "d2c4b4e3-c4ed-46af-a02a-b19d8e35e8be",
   "metadata": {
    "tags": []
   },
   "outputs": [],
   "source": [
    "# Split df into train and test\n",
    "train_flights_df, test_flights_df = train_test_split(flights_df, test_size=0.2, random_state=42)"
   ]
  },
  {
   "cell_type": "code",
   "execution_count": 17,
   "id": "73d4c3ae-b7e2-4f1e-922f-5a8e7b3bdda5",
   "metadata": {
    "tags": []
   },
   "outputs": [],
   "source": [
    "# push to csv files\n",
    "train_flights_df.to_csv('data/train_flights_df_random.csv', index = False)\n",
    "test_flights_df.to_csv('data/test_flights_df_random.csv', index = False)"
   ]
  },
  {
   "cell_type": "code",
   "execution_count": null,
   "id": "d7dbd913-1086-4757-8d0c-f5503f478543",
   "metadata": {},
   "outputs": [],
   "source": []
  }
 ],
 "metadata": {
  "kernelspec": {
   "display_name": "Python 3 (ipykernel)",
   "language": "python",
   "name": "python3"
  },
  "language_info": {
   "codemirror_mode": {
    "name": "ipython",
    "version": 3
   },
   "file_extension": ".py",
   "mimetype": "text/x-python",
   "name": "python",
   "nbconvert_exporter": "python",
   "pygments_lexer": "ipython3",
   "version": "3.10.9"
  }
 },
 "nbformat": 4,
 "nbformat_minor": 5
}
