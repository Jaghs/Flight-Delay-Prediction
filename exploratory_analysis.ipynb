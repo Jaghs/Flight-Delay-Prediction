{
 "cells": [
  {
   "cell_type": "markdown",
   "metadata": {},
   "source": [
    "# Exploratory Data Analysis\n",
    "\n",
    "Use this notebook to get familiar with the datasets we have. There is 10 questions we need to answer during the EDA.\n",
    "\n",
    "\n",
    "We shouldn't limit our EDA to these 10 questions. Let's be creative :)."
   ]
  },
  {
   "cell_type": "code",
   "execution_count": 7,
   "metadata": {},
   "outputs": [],
   "source": [
    "# import libraries\n",
    "import numpy as np\n",
    "import pandas as pd\n",
    "from scipy.stats import zscore\n",
    "import matplotlib.pyplot as plt\n",
    "import seaborn as sns\n",
    "from scipy.stats import shapiro\n",
    "import statsmodels.api as sm"
   ]
  },
  {
   "cell_type": "code",
   "execution_count": 8,
   "metadata": {
    "tags": []
   },
   "outputs": [],
   "source": [
    "# load Tables\n",
    "train_flights_df = pd.read_csv('data/train_flights_df_random.csv', sep = ',')"
   ]
  },
  {
   "cell_type": "code",
   "execution_count": 9,
   "metadata": {},
   "outputs": [
    {
     "data": {
      "text/html": [
       "<div>\n",
       "<style scoped>\n",
       "    .dataframe tbody tr th:only-of-type {\n",
       "        vertical-align: middle;\n",
       "    }\n",
       "\n",
       "    .dataframe tbody tr th {\n",
       "        vertical-align: top;\n",
       "    }\n",
       "\n",
       "    .dataframe thead th {\n",
       "        text-align: right;\n",
       "    }\n",
       "</style>\n",
       "<table border=\"1\" class=\"dataframe\">\n",
       "  <thead>\n",
       "    <tr style=\"text-align: right;\">\n",
       "      <th></th>\n",
       "      <th>fl_date</th>\n",
       "      <th>unique_carrier</th>\n",
       "      <th>branded_code_share</th>\n",
       "      <th>mkt_carrier_fl_num</th>\n",
       "      <th>op_unique_carrier</th>\n",
       "      <th>op_carrier_fl_num</th>\n",
       "      <th>origin</th>\n",
       "      <th>origin_city_name</th>\n",
       "      <th>dest</th>\n",
       "      <th>dest_city_name</th>\n",
       "      <th>...</th>\n",
       "      <th>total_gallons</th>\n",
       "      <th>sdomt_cost</th>\n",
       "      <th>satl_cost</th>\n",
       "      <th>spac_cost</th>\n",
       "      <th>slat_cost</th>\n",
       "      <th>sint_cost</th>\n",
       "      <th>ts_cost</th>\n",
       "      <th>tdomt_cost</th>\n",
       "      <th>tint_cost</th>\n",
       "      <th>total_cost</th>\n",
       "    </tr>\n",
       "  </thead>\n",
       "  <tbody>\n",
       "    <tr>\n",
       "      <th>0</th>\n",
       "      <td>2018-08-18</td>\n",
       "      <td>UA</td>\n",
       "      <td>UA_CODESHARE</td>\n",
       "      <td>5752</td>\n",
       "      <td>OO</td>\n",
       "      <td>5752</td>\n",
       "      <td>MFR</td>\n",
       "      <td>Medford, OR</td>\n",
       "      <td>DEN</td>\n",
       "      <td>Denver, CO</td>\n",
       "      <td>...</td>\n",
       "      <td>319004221.0</td>\n",
       "      <td>344423320.0</td>\n",
       "      <td>164053458.0</td>\n",
       "      <td>117380657.0</td>\n",
       "      <td>65302471.0</td>\n",
       "      <td>346736586.0</td>\n",
       "      <td>691159906.0</td>\n",
       "      <td>346659053.0</td>\n",
       "      <td>347764669.0</td>\n",
       "      <td>694423722.0</td>\n",
       "    </tr>\n",
       "    <tr>\n",
       "      <th>1</th>\n",
       "      <td>2019-05-04</td>\n",
       "      <td>WN</td>\n",
       "      <td>WN</td>\n",
       "      <td>4566</td>\n",
       "      <td>WN</td>\n",
       "      <td>4566</td>\n",
       "      <td>SJC</td>\n",
       "      <td>San Jose, CA</td>\n",
       "      <td>STL</td>\n",
       "      <td>St. Louis, MO</td>\n",
       "      <td>...</td>\n",
       "      <td>179914831.0</td>\n",
       "      <td>371652892.0</td>\n",
       "      <td>0.0</td>\n",
       "      <td>0.0</td>\n",
       "      <td>6309955.0</td>\n",
       "      <td>6309955.0</td>\n",
       "      <td>377962847.0</td>\n",
       "      <td>371853619.0</td>\n",
       "      <td>6309955.0</td>\n",
       "      <td>378163574.0</td>\n",
       "    </tr>\n",
       "    <tr>\n",
       "      <th>2</th>\n",
       "      <td>2018-12-05</td>\n",
       "      <td>AS</td>\n",
       "      <td>AS</td>\n",
       "      <td>19</td>\n",
       "      <td>AS</td>\n",
       "      <td>19</td>\n",
       "      <td>MCO</td>\n",
       "      <td>Orlando, FL</td>\n",
       "      <td>SEA</td>\n",
       "      <td>Seattle, WA</td>\n",
       "      <td>...</td>\n",
       "      <td>59640959.0</td>\n",
       "      <td>124274679.0</td>\n",
       "      <td>0.0</td>\n",
       "      <td>0.0</td>\n",
       "      <td>2981090.0</td>\n",
       "      <td>2981090.0</td>\n",
       "      <td>127255769.0</td>\n",
       "      <td>124358971.0</td>\n",
       "      <td>2981090.0</td>\n",
       "      <td>127340061.0</td>\n",
       "    </tr>\n",
       "    <tr>\n",
       "      <th>3</th>\n",
       "      <td>2018-06-25</td>\n",
       "      <td>AS</td>\n",
       "      <td>AS_CODESHARE</td>\n",
       "      <td>2098</td>\n",
       "      <td>QX</td>\n",
       "      <td>2098</td>\n",
       "      <td>MFR</td>\n",
       "      <td>Medford, OR</td>\n",
       "      <td>PDX</td>\n",
       "      <td>Portland, OR</td>\n",
       "      <td>...</td>\n",
       "      <td>64229624.0</td>\n",
       "      <td>149466966.0</td>\n",
       "      <td>0.0</td>\n",
       "      <td>0.0</td>\n",
       "      <td>2654738.0</td>\n",
       "      <td>2654738.0</td>\n",
       "      <td>152121704.0</td>\n",
       "      <td>149647804.0</td>\n",
       "      <td>2654738.0</td>\n",
       "      <td>152302542.0</td>\n",
       "    </tr>\n",
       "    <tr>\n",
       "      <th>4</th>\n",
       "      <td>2018-08-21</td>\n",
       "      <td>UA</td>\n",
       "      <td>UA_CODESHARE</td>\n",
       "      <td>5552</td>\n",
       "      <td>OO</td>\n",
       "      <td>5552</td>\n",
       "      <td>ORD</td>\n",
       "      <td>Chicago, IL</td>\n",
       "      <td>GRR</td>\n",
       "      <td>Grand Rapids, MI</td>\n",
       "      <td>...</td>\n",
       "      <td>319004221.0</td>\n",
       "      <td>344423320.0</td>\n",
       "      <td>164053458.0</td>\n",
       "      <td>117380657.0</td>\n",
       "      <td>65302471.0</td>\n",
       "      <td>346736586.0</td>\n",
       "      <td>691159906.0</td>\n",
       "      <td>346659053.0</td>\n",
       "      <td>347764669.0</td>\n",
       "      <td>694423722.0</td>\n",
       "    </tr>\n",
       "    <tr>\n",
       "      <th>5</th>\n",
       "      <td>2018-02-11</td>\n",
       "      <td>AA</td>\n",
       "      <td>AA</td>\n",
       "      <td>2373</td>\n",
       "      <td>AA</td>\n",
       "      <td>2373</td>\n",
       "      <td>LAX</td>\n",
       "      <td>Los Angeles, CA</td>\n",
       "      <td>DFW</td>\n",
       "      <td>Dallas/Fort Worth, TX</td>\n",
       "      <td>...</td>\n",
       "      <td>261946387.0</td>\n",
       "      <td>320337213.0</td>\n",
       "      <td>62220618.0</td>\n",
       "      <td>43790860.0</td>\n",
       "      <td>94212692.0</td>\n",
       "      <td>200224170.0</td>\n",
       "      <td>520561383.0</td>\n",
       "      <td>321390510.0</td>\n",
       "      <td>200591763.0</td>\n",
       "      <td>521982273.0</td>\n",
       "    </tr>\n",
       "    <tr>\n",
       "      <th>6</th>\n",
       "      <td>2018-12-15</td>\n",
       "      <td>B6</td>\n",
       "      <td>B6</td>\n",
       "      <td>136</td>\n",
       "      <td>B6</td>\n",
       "      <td>136</td>\n",
       "      <td>PHX</td>\n",
       "      <td>Phoenix, AZ</td>\n",
       "      <td>JFK</td>\n",
       "      <td>New York, NY</td>\n",
       "      <td>...</td>\n",
       "      <td>74132762.0</td>\n",
       "      <td>116905050.0</td>\n",
       "      <td>0.0</td>\n",
       "      <td>0.0</td>\n",
       "      <td>31565497.0</td>\n",
       "      <td>31565497.0</td>\n",
       "      <td>148470547.0</td>\n",
       "      <td>116905050.0</td>\n",
       "      <td>31565497.0</td>\n",
       "      <td>148470547.0</td>\n",
       "    </tr>\n",
       "    <tr>\n",
       "      <th>7</th>\n",
       "      <td>2018-08-24</td>\n",
       "      <td>AA</td>\n",
       "      <td>AA</td>\n",
       "      <td>1957</td>\n",
       "      <td>AA</td>\n",
       "      <td>1957</td>\n",
       "      <td>DEN</td>\n",
       "      <td>Denver, CO</td>\n",
       "      <td>CLT</td>\n",
       "      <td>Charlotte, NC</td>\n",
       "      <td>...</td>\n",
       "      <td>334937605.0</td>\n",
       "      <td>425451929.0</td>\n",
       "      <td>142983221.0</td>\n",
       "      <td>49435800.0</td>\n",
       "      <td>105148593.0</td>\n",
       "      <td>297567614.0</td>\n",
       "      <td>723019543.0</td>\n",
       "      <td>426346992.0</td>\n",
       "      <td>297885732.0</td>\n",
       "      <td>724232724.0</td>\n",
       "    </tr>\n",
       "    <tr>\n",
       "      <th>8</th>\n",
       "      <td>2019-02-27</td>\n",
       "      <td>DL</td>\n",
       "      <td>DL_CODESHARE</td>\n",
       "      <td>5330</td>\n",
       "      <td>9E</td>\n",
       "      <td>5330</td>\n",
       "      <td>DTW</td>\n",
       "      <td>Detroit, MI</td>\n",
       "      <td>CWA</td>\n",
       "      <td>Mosinee, WI</td>\n",
       "      <td>...</td>\n",
       "      <td>248074450.0</td>\n",
       "      <td>313961048.0</td>\n",
       "      <td>87132937.0</td>\n",
       "      <td>50931775.0</td>\n",
       "      <td>54187883.0</td>\n",
       "      <td>192252595.0</td>\n",
       "      <td>506213643.0</td>\n",
       "      <td>319361813.0</td>\n",
       "      <td>193062831.0</td>\n",
       "      <td>512424644.0</td>\n",
       "    </tr>\n",
       "    <tr>\n",
       "      <th>9</th>\n",
       "      <td>2018-03-16</td>\n",
       "      <td>B6</td>\n",
       "      <td>B6</td>\n",
       "      <td>90</td>\n",
       "      <td>B6</td>\n",
       "      <td>90</td>\n",
       "      <td>SAN</td>\n",
       "      <td>San Diego, CA</td>\n",
       "      <td>JFK</td>\n",
       "      <td>New York, NY</td>\n",
       "      <td>...</td>\n",
       "      <td>69593014.0</td>\n",
       "      <td>115122701.0</td>\n",
       "      <td>0.0</td>\n",
       "      <td>0.0</td>\n",
       "      <td>27078384.0</td>\n",
       "      <td>27078384.0</td>\n",
       "      <td>142201085.0</td>\n",
       "      <td>115143298.0</td>\n",
       "      <td>27078384.0</td>\n",
       "      <td>142221682.0</td>\n",
       "    </tr>\n",
       "  </tbody>\n",
       "</table>\n",
       "<p>10 rows × 55 columns</p>\n",
       "</div>"
      ],
      "text/plain": [
       "      fl_date unique_carrier branded_code_share  mkt_carrier_fl_num  \\\n",
       "0  2018-08-18             UA       UA_CODESHARE                5752   \n",
       "1  2019-05-04             WN                 WN                4566   \n",
       "2  2018-12-05             AS                 AS                  19   \n",
       "3  2018-06-25             AS       AS_CODESHARE                2098   \n",
       "4  2018-08-21             UA       UA_CODESHARE                5552   \n",
       "5  2018-02-11             AA                 AA                2373   \n",
       "6  2018-12-15             B6                 B6                 136   \n",
       "7  2018-08-24             AA                 AA                1957   \n",
       "8  2019-02-27             DL       DL_CODESHARE                5330   \n",
       "9  2018-03-16             B6                 B6                  90   \n",
       "\n",
       "  op_unique_carrier  op_carrier_fl_num origin origin_city_name dest  \\\n",
       "0                OO               5752    MFR      Medford, OR  DEN   \n",
       "1                WN               4566    SJC     San Jose, CA  STL   \n",
       "2                AS                 19    MCO      Orlando, FL  SEA   \n",
       "3                QX               2098    MFR      Medford, OR  PDX   \n",
       "4                OO               5552    ORD      Chicago, IL  GRR   \n",
       "5                AA               2373    LAX  Los Angeles, CA  DFW   \n",
       "6                B6                136    PHX      Phoenix, AZ  JFK   \n",
       "7                AA               1957    DEN       Denver, CO  CLT   \n",
       "8                9E               5330    DTW      Detroit, MI  CWA   \n",
       "9                B6                 90    SAN    San Diego, CA  JFK   \n",
       "\n",
       "          dest_city_name  ...  total_gallons   sdomt_cost    satl_cost  \\\n",
       "0             Denver, CO  ...    319004221.0  344423320.0  164053458.0   \n",
       "1          St. Louis, MO  ...    179914831.0  371652892.0          0.0   \n",
       "2            Seattle, WA  ...     59640959.0  124274679.0          0.0   \n",
       "3           Portland, OR  ...     64229624.0  149466966.0          0.0   \n",
       "4       Grand Rapids, MI  ...    319004221.0  344423320.0  164053458.0   \n",
       "5  Dallas/Fort Worth, TX  ...    261946387.0  320337213.0   62220618.0   \n",
       "6           New York, NY  ...     74132762.0  116905050.0          0.0   \n",
       "7          Charlotte, NC  ...    334937605.0  425451929.0  142983221.0   \n",
       "8            Mosinee, WI  ...    248074450.0  313961048.0   87132937.0   \n",
       "9           New York, NY  ...     69593014.0  115122701.0          0.0   \n",
       "\n",
       "     spac_cost    slat_cost    sint_cost      ts_cost   tdomt_cost  \\\n",
       "0  117380657.0   65302471.0  346736586.0  691159906.0  346659053.0   \n",
       "1          0.0    6309955.0    6309955.0  377962847.0  371853619.0   \n",
       "2          0.0    2981090.0    2981090.0  127255769.0  124358971.0   \n",
       "3          0.0    2654738.0    2654738.0  152121704.0  149647804.0   \n",
       "4  117380657.0   65302471.0  346736586.0  691159906.0  346659053.0   \n",
       "5   43790860.0   94212692.0  200224170.0  520561383.0  321390510.0   \n",
       "6          0.0   31565497.0   31565497.0  148470547.0  116905050.0   \n",
       "7   49435800.0  105148593.0  297567614.0  723019543.0  426346992.0   \n",
       "8   50931775.0   54187883.0  192252595.0  506213643.0  319361813.0   \n",
       "9          0.0   27078384.0   27078384.0  142201085.0  115143298.0   \n",
       "\n",
       "     tint_cost   total_cost  \n",
       "0  347764669.0  694423722.0  \n",
       "1    6309955.0  378163574.0  \n",
       "2    2981090.0  127340061.0  \n",
       "3    2654738.0  152302542.0  \n",
       "4  347764669.0  694423722.0  \n",
       "5  200591763.0  521982273.0  \n",
       "6   31565497.0  148470547.0  \n",
       "7  297885732.0  724232724.0  \n",
       "8  193062831.0  512424644.0  \n",
       "9   27078384.0  142221682.0  \n",
       "\n",
       "[10 rows x 55 columns]"
      ]
     },
     "execution_count": 9,
     "metadata": {},
     "output_type": "execute_result"
    }
   ],
   "source": [
    "train_flights_df.head(10)"
   ]
  },
  {
   "cell_type": "code",
   "execution_count": 10,
   "metadata": {},
   "outputs": [
    {
     "data": {
      "text/plain": [
       "(78404, 55)"
      ]
     },
     "execution_count": 10,
     "metadata": {},
     "output_type": "execute_result"
    }
   ],
   "source": [
    "# check shape (# of rowns and columns)\n",
    "train_flights_df.shape"
   ]
  },
  {
   "cell_type": "code",
   "execution_count": 11,
   "metadata": {},
   "outputs": [
    {
     "data": {
      "text/plain": [
       "fl_date                 object\n",
       "unique_carrier          object\n",
       "branded_code_share      object\n",
       "mkt_carrier_fl_num       int64\n",
       "op_unique_carrier       object\n",
       "op_carrier_fl_num        int64\n",
       "origin                  object\n",
       "origin_city_name        object\n",
       "dest                    object\n",
       "dest_city_name          object\n",
       "crs_dep_time             int64\n",
       "dep_time               float64\n",
       "dep_delay              float64\n",
       "taxi_out               float64\n",
       "wheels_off             float64\n",
       "wheels_on              float64\n",
       "taxi_in                float64\n",
       "crs_arr_time             int64\n",
       "arr_time               float64\n",
       "arr_delay              float64\n",
       "cancelled              float64\n",
       "cancellation_code        int64\n",
       "diverted               float64\n",
       "dup                     object\n",
       "crs_elapsed_time       float64\n",
       "actual_elapsed_time    float64\n",
       "air_time               float64\n",
       "distance               float64\n",
       "carrier_delay          float64\n",
       "weather_delay          float64\n",
       "nas_delay              float64\n",
       "security_delay         float64\n",
       "late_aircraft_delay    float64\n",
       "route_id                object\n",
       "month                    int64\n",
       "year                     int64\n",
       "carrier_group_new      float64\n",
       "sdomt_gallons          float64\n",
       "satl_gallons           float64\n",
       "spac_gallons           float64\n",
       "slat_gallons           float64\n",
       "sint_gallons           float64\n",
       "ts_gallons             float64\n",
       "tdomt_gallons          float64\n",
       "tint_gallons           float64\n",
       "total_gallons          float64\n",
       "sdomt_cost             float64\n",
       "satl_cost              float64\n",
       "spac_cost              float64\n",
       "slat_cost              float64\n",
       "sint_cost              float64\n",
       "ts_cost                float64\n",
       "tdomt_cost             float64\n",
       "tint_cost              float64\n",
       "total_cost             float64\n",
       "dtype: object"
      ]
     },
     "execution_count": 11,
     "metadata": {},
     "output_type": "execute_result"
    }
   ],
   "source": [
    "# check data types\n",
    "train_flights_df.dtypes"
   ]
  },
  {
   "cell_type": "code",
   "execution_count": 12,
   "metadata": {
    "collapsed": true,
    "jupyter": {
     "outputs_hidden": true
    },
    "tags": []
   },
   "outputs": [
    {
     "ename": "KeyError",
     "evalue": "\"['mkt_carrier', 'flights', 'first_dep_time', 'total_add_gtime', 'longest_add_gtime', 'no_name'] not found in axis\"",
     "output_type": "error",
     "traceback": [
      "\u001b[1;31m---------------------------------------------------------------------------\u001b[0m",
      "\u001b[1;31mKeyError\u001b[0m                                  Traceback (most recent call last)",
      "Cell \u001b[1;32mIn[12], line 2\u001b[0m\n\u001b[0;32m      1\u001b[0m \u001b[38;5;66;03m# dropping columns that dont look important\u001b[39;00m\n\u001b[1;32m----> 2\u001b[0m \u001b[43mtrain_flights_df\u001b[49m\u001b[38;5;241;43m.\u001b[39;49m\u001b[43mdrop\u001b[49m\u001b[43m(\u001b[49m\u001b[43mcolumns\u001b[49m\u001b[38;5;241;43m=\u001b[39;49m\u001b[43m[\u001b[49m\u001b[38;5;124;43m'\u001b[39;49m\u001b[38;5;124;43mbranded_code_share\u001b[39;49m\u001b[38;5;124;43m'\u001b[39;49m\u001b[43m,\u001b[49m\n\u001b[0;32m      3\u001b[0m \u001b[43m           \u001b[49m\u001b[38;5;124;43m'\u001b[39;49m\u001b[38;5;124;43mmkt_carrier\u001b[39;49m\u001b[38;5;124;43m'\u001b[39;49m\u001b[43m,\u001b[49m\u001b[43m \u001b[49m\u001b[38;5;124;43m'\u001b[39;49m\u001b[38;5;124;43mcancelled\u001b[39;49m\u001b[38;5;124;43m'\u001b[39;49m\u001b[43m,\u001b[49m\u001b[43m \u001b[49m\u001b[38;5;124;43m'\u001b[39;49m\u001b[38;5;124;43mcancellation_code\u001b[39;49m\u001b[38;5;124;43m'\u001b[39;49m\u001b[43m,\u001b[49m\u001b[43m \u001b[49m\u001b[38;5;124;43m'\u001b[39;49m\u001b[38;5;124;43mflights\u001b[39;49m\u001b[38;5;124;43m'\u001b[39;49m\u001b[43m,\u001b[49m\u001b[43m \u001b[49m\u001b[38;5;124;43m'\u001b[39;49m\u001b[38;5;124;43mair_time\u001b[39;49m\u001b[38;5;124;43m'\u001b[39;49m\u001b[43m,\u001b[49m\n\u001b[0;32m      4\u001b[0m \u001b[43m            \u001b[49m\u001b[38;5;124;43m'\u001b[39;49m\u001b[38;5;124;43mfirst_dep_time\u001b[39;49m\u001b[38;5;124;43m'\u001b[39;49m\u001b[43m,\u001b[49m\u001b[43m \u001b[49m\u001b[38;5;124;43m'\u001b[39;49m\u001b[38;5;124;43mtotal_add_gtime\u001b[39;49m\u001b[38;5;124;43m'\u001b[39;49m\u001b[43m,\u001b[49m\u001b[43m \u001b[49m\u001b[38;5;124;43m'\u001b[39;49m\u001b[38;5;124;43mlongest_add_gtime\u001b[39;49m\u001b[38;5;124;43m'\u001b[39;49m\u001b[43m,\u001b[49m\u001b[43m \u001b[49m\u001b[38;5;124;43m'\u001b[39;49m\u001b[38;5;124;43mno_name\u001b[39;49m\u001b[38;5;124;43m'\u001b[39;49m\u001b[43m]\u001b[49m\u001b[43m,\u001b[49m\u001b[43m \u001b[49m\u001b[43minplace\u001b[49m\u001b[38;5;241;43m=\u001b[39;49m\u001b[38;5;28;43;01mTrue\u001b[39;49;00m\u001b[43m)\u001b[49m\n",
      "File \u001b[1;32mC:\\ProgramData\\Anaconda3\\lib\\site-packages\\pandas\\util\\_decorators.py:311\u001b[0m, in \u001b[0;36mdeprecate_nonkeyword_arguments.<locals>.decorate.<locals>.wrapper\u001b[1;34m(*args, **kwargs)\u001b[0m\n\u001b[0;32m    305\u001b[0m \u001b[38;5;28;01mif\u001b[39;00m \u001b[38;5;28mlen\u001b[39m(args) \u001b[38;5;241m>\u001b[39m num_allow_args:\n\u001b[0;32m    306\u001b[0m     warnings\u001b[38;5;241m.\u001b[39mwarn(\n\u001b[0;32m    307\u001b[0m         msg\u001b[38;5;241m.\u001b[39mformat(arguments\u001b[38;5;241m=\u001b[39marguments),\n\u001b[0;32m    308\u001b[0m         \u001b[38;5;167;01mFutureWarning\u001b[39;00m,\n\u001b[0;32m    309\u001b[0m         stacklevel\u001b[38;5;241m=\u001b[39mstacklevel,\n\u001b[0;32m    310\u001b[0m     )\n\u001b[1;32m--> 311\u001b[0m \u001b[38;5;28;01mreturn\u001b[39;00m func(\u001b[38;5;241m*\u001b[39margs, \u001b[38;5;241m*\u001b[39m\u001b[38;5;241m*\u001b[39mkwargs)\n",
      "File \u001b[1;32mC:\\ProgramData\\Anaconda3\\lib\\site-packages\\pandas\\core\\frame.py:4957\u001b[0m, in \u001b[0;36mDataFrame.drop\u001b[1;34m(self, labels, axis, index, columns, level, inplace, errors)\u001b[0m\n\u001b[0;32m   4809\u001b[0m \u001b[38;5;129m@deprecate_nonkeyword_arguments\u001b[39m(version\u001b[38;5;241m=\u001b[39m\u001b[38;5;28;01mNone\u001b[39;00m, allowed_args\u001b[38;5;241m=\u001b[39m[\u001b[38;5;124m\"\u001b[39m\u001b[38;5;124mself\u001b[39m\u001b[38;5;124m\"\u001b[39m, \u001b[38;5;124m\"\u001b[39m\u001b[38;5;124mlabels\u001b[39m\u001b[38;5;124m\"\u001b[39m])\n\u001b[0;32m   4810\u001b[0m \u001b[38;5;28;01mdef\u001b[39;00m \u001b[38;5;21mdrop\u001b[39m(\n\u001b[0;32m   4811\u001b[0m     \u001b[38;5;28mself\u001b[39m,\n\u001b[1;32m   (...)\u001b[0m\n\u001b[0;32m   4818\u001b[0m     errors: \u001b[38;5;28mstr\u001b[39m \u001b[38;5;241m=\u001b[39m \u001b[38;5;124m\"\u001b[39m\u001b[38;5;124mraise\u001b[39m\u001b[38;5;124m\"\u001b[39m,\n\u001b[0;32m   4819\u001b[0m ):\n\u001b[0;32m   4820\u001b[0m \u001b[38;5;250m    \u001b[39m\u001b[38;5;124;03m\"\"\"\u001b[39;00m\n\u001b[0;32m   4821\u001b[0m \u001b[38;5;124;03m    Drop specified labels from rows or columns.\u001b[39;00m\n\u001b[0;32m   4822\u001b[0m \n\u001b[1;32m   (...)\u001b[0m\n\u001b[0;32m   4955\u001b[0m \u001b[38;5;124;03m            weight  1.0     0.8\u001b[39;00m\n\u001b[0;32m   4956\u001b[0m \u001b[38;5;124;03m    \"\"\"\u001b[39;00m\n\u001b[1;32m-> 4957\u001b[0m     \u001b[38;5;28;01mreturn\u001b[39;00m \u001b[38;5;28;43msuper\u001b[39;49m\u001b[43m(\u001b[49m\u001b[43m)\u001b[49m\u001b[38;5;241;43m.\u001b[39;49m\u001b[43mdrop\u001b[49m\u001b[43m(\u001b[49m\n\u001b[0;32m   4958\u001b[0m \u001b[43m        \u001b[49m\u001b[43mlabels\u001b[49m\u001b[38;5;241;43m=\u001b[39;49m\u001b[43mlabels\u001b[49m\u001b[43m,\u001b[49m\n\u001b[0;32m   4959\u001b[0m \u001b[43m        \u001b[49m\u001b[43maxis\u001b[49m\u001b[38;5;241;43m=\u001b[39;49m\u001b[43maxis\u001b[49m\u001b[43m,\u001b[49m\n\u001b[0;32m   4960\u001b[0m \u001b[43m        \u001b[49m\u001b[43mindex\u001b[49m\u001b[38;5;241;43m=\u001b[39;49m\u001b[43mindex\u001b[49m\u001b[43m,\u001b[49m\n\u001b[0;32m   4961\u001b[0m \u001b[43m        \u001b[49m\u001b[43mcolumns\u001b[49m\u001b[38;5;241;43m=\u001b[39;49m\u001b[43mcolumns\u001b[49m\u001b[43m,\u001b[49m\n\u001b[0;32m   4962\u001b[0m \u001b[43m        \u001b[49m\u001b[43mlevel\u001b[49m\u001b[38;5;241;43m=\u001b[39;49m\u001b[43mlevel\u001b[49m\u001b[43m,\u001b[49m\n\u001b[0;32m   4963\u001b[0m \u001b[43m        \u001b[49m\u001b[43minplace\u001b[49m\u001b[38;5;241;43m=\u001b[39;49m\u001b[43minplace\u001b[49m\u001b[43m,\u001b[49m\n\u001b[0;32m   4964\u001b[0m \u001b[43m        \u001b[49m\u001b[43merrors\u001b[49m\u001b[38;5;241;43m=\u001b[39;49m\u001b[43merrors\u001b[49m\u001b[43m,\u001b[49m\n\u001b[0;32m   4965\u001b[0m \u001b[43m    \u001b[49m\u001b[43m)\u001b[49m\n",
      "File \u001b[1;32mC:\\ProgramData\\Anaconda3\\lib\\site-packages\\pandas\\core\\generic.py:4267\u001b[0m, in \u001b[0;36mNDFrame.drop\u001b[1;34m(self, labels, axis, index, columns, level, inplace, errors)\u001b[0m\n\u001b[0;32m   4265\u001b[0m \u001b[38;5;28;01mfor\u001b[39;00m axis, labels \u001b[38;5;129;01min\u001b[39;00m axes\u001b[38;5;241m.\u001b[39mitems():\n\u001b[0;32m   4266\u001b[0m     \u001b[38;5;28;01mif\u001b[39;00m labels \u001b[38;5;129;01mis\u001b[39;00m \u001b[38;5;129;01mnot\u001b[39;00m \u001b[38;5;28;01mNone\u001b[39;00m:\n\u001b[1;32m-> 4267\u001b[0m         obj \u001b[38;5;241m=\u001b[39m \u001b[43mobj\u001b[49m\u001b[38;5;241;43m.\u001b[39;49m\u001b[43m_drop_axis\u001b[49m\u001b[43m(\u001b[49m\u001b[43mlabels\u001b[49m\u001b[43m,\u001b[49m\u001b[43m \u001b[49m\u001b[43maxis\u001b[49m\u001b[43m,\u001b[49m\u001b[43m \u001b[49m\u001b[43mlevel\u001b[49m\u001b[38;5;241;43m=\u001b[39;49m\u001b[43mlevel\u001b[49m\u001b[43m,\u001b[49m\u001b[43m \u001b[49m\u001b[43merrors\u001b[49m\u001b[38;5;241;43m=\u001b[39;49m\u001b[43merrors\u001b[49m\u001b[43m)\u001b[49m\n\u001b[0;32m   4269\u001b[0m \u001b[38;5;28;01mif\u001b[39;00m inplace:\n\u001b[0;32m   4270\u001b[0m     \u001b[38;5;28mself\u001b[39m\u001b[38;5;241m.\u001b[39m_update_inplace(obj)\n",
      "File \u001b[1;32mC:\\ProgramData\\Anaconda3\\lib\\site-packages\\pandas\\core\\generic.py:4311\u001b[0m, in \u001b[0;36mNDFrame._drop_axis\u001b[1;34m(self, labels, axis, level, errors, consolidate, only_slice)\u001b[0m\n\u001b[0;32m   4309\u001b[0m         new_axis \u001b[38;5;241m=\u001b[39m axis\u001b[38;5;241m.\u001b[39mdrop(labels, level\u001b[38;5;241m=\u001b[39mlevel, errors\u001b[38;5;241m=\u001b[39merrors)\n\u001b[0;32m   4310\u001b[0m     \u001b[38;5;28;01melse\u001b[39;00m:\n\u001b[1;32m-> 4311\u001b[0m         new_axis \u001b[38;5;241m=\u001b[39m \u001b[43maxis\u001b[49m\u001b[38;5;241;43m.\u001b[39;49m\u001b[43mdrop\u001b[49m\u001b[43m(\u001b[49m\u001b[43mlabels\u001b[49m\u001b[43m,\u001b[49m\u001b[43m \u001b[49m\u001b[43merrors\u001b[49m\u001b[38;5;241;43m=\u001b[39;49m\u001b[43merrors\u001b[49m\u001b[43m)\u001b[49m\n\u001b[0;32m   4312\u001b[0m     indexer \u001b[38;5;241m=\u001b[39m axis\u001b[38;5;241m.\u001b[39mget_indexer(new_axis)\n\u001b[0;32m   4314\u001b[0m \u001b[38;5;66;03m# Case for non-unique axis\u001b[39;00m\n\u001b[0;32m   4315\u001b[0m \u001b[38;5;28;01melse\u001b[39;00m:\n",
      "File \u001b[1;32mC:\\ProgramData\\Anaconda3\\lib\\site-packages\\pandas\\core\\indexes\\base.py:6661\u001b[0m, in \u001b[0;36mIndex.drop\u001b[1;34m(self, labels, errors)\u001b[0m\n\u001b[0;32m   6659\u001b[0m \u001b[38;5;28;01mif\u001b[39;00m mask\u001b[38;5;241m.\u001b[39many():\n\u001b[0;32m   6660\u001b[0m     \u001b[38;5;28;01mif\u001b[39;00m errors \u001b[38;5;241m!=\u001b[39m \u001b[38;5;124m\"\u001b[39m\u001b[38;5;124mignore\u001b[39m\u001b[38;5;124m\"\u001b[39m:\n\u001b[1;32m-> 6661\u001b[0m         \u001b[38;5;28;01mraise\u001b[39;00m \u001b[38;5;167;01mKeyError\u001b[39;00m(\u001b[38;5;124mf\u001b[39m\u001b[38;5;124m\"\u001b[39m\u001b[38;5;132;01m{\u001b[39;00m\u001b[38;5;28mlist\u001b[39m(labels[mask])\u001b[38;5;132;01m}\u001b[39;00m\u001b[38;5;124m not found in axis\u001b[39m\u001b[38;5;124m\"\u001b[39m)\n\u001b[0;32m   6662\u001b[0m     indexer \u001b[38;5;241m=\u001b[39m indexer[\u001b[38;5;241m~\u001b[39mmask]\n\u001b[0;32m   6663\u001b[0m \u001b[38;5;28;01mreturn\u001b[39;00m \u001b[38;5;28mself\u001b[39m\u001b[38;5;241m.\u001b[39mdelete(indexer)\n",
      "\u001b[1;31mKeyError\u001b[0m: \"['mkt_carrier', 'flights', 'first_dep_time', 'total_add_gtime', 'longest_add_gtime', 'no_name'] not found in axis\""
     ]
    }
   ],
   "source": [
    "# dropping columns that dont look important\n",
    "train_flights_df.drop(columns=['branded_code_share',\n",
    "           'mkt_carrier', 'cancelled', 'cancellation_code', 'flights', 'air_time',\n",
    "            'first_dep_time', 'total_add_gtime', 'longest_add_gtime', 'no_name'], inplace=True)"
   ]
  },
  {
   "cell_type": "code",
   "execution_count": null,
   "metadata": {},
   "outputs": [],
   "source": [
    "# select delay columns as they are important to the first task\n",
    "train_flights_delays = train_flights_df[['carrier_delay', 'weather_delay', 'nas_delay', 'security_delay', 'late_aircraft_delay', 'arr_delay', 'dep_delay']]"
   ]
  },
  {
   "cell_type": "code",
   "execution_count": null,
   "metadata": {},
   "outputs": [],
   "source": [
    "# replace NaN in delay columns with mean and save ot original dataframe\n",
    "train_flights_df.fillna(train_flights_df.mean(), inplace=True)\n",
    "train_flights_df"
   ]
  },
  {
   "cell_type": "code",
   "execution_count": null,
   "metadata": {},
   "outputs": [],
   "source": [
    "train_flights_df.isnull().sum()"
   ]
  },
  {
   "cell_type": "code",
   "execution_count": null,
   "metadata": {},
   "outputs": [],
   "source": [
    "train_flights_df"
   ]
  },
  {
   "cell_type": "markdown",
   "metadata": {},
   "source": [
    "## **Task 1**: Test the hypothesis that the delay is from Normal distribution. and that **mean** of the delay is 0. Be careful about the outliers."
   ]
  },
  {
   "cell_type": "code",
   "execution_count": 16,
   "metadata": {},
   "outputs": [],
   "source": [
    "# select delay columns as they are important to the first task\n",
    "train_flights_delays = train_flights_df[['carrier_delay', 'weather_delay', 'nas_delay', 'security_delay', 'late_aircraft_delay', 'arr_delay', 'dep_delay']]"
   ]
  },
  {
   "cell_type": "code",
   "execution_count": 17,
   "metadata": {
    "tags": []
   },
   "outputs": [
    {
     "data": {
      "text/html": [
       "<div>\n",
       "<style scoped>\n",
       "    .dataframe tbody tr th:only-of-type {\n",
       "        vertical-align: middle;\n",
       "    }\n",
       "\n",
       "    .dataframe tbody tr th {\n",
       "        vertical-align: top;\n",
       "    }\n",
       "\n",
       "    .dataframe thead th {\n",
       "        text-align: right;\n",
       "    }\n",
       "</style>\n",
       "<table border=\"1\" class=\"dataframe\">\n",
       "  <thead>\n",
       "    <tr style=\"text-align: right;\">\n",
       "      <th></th>\n",
       "      <th>carrier_delay</th>\n",
       "      <th>weather_delay</th>\n",
       "      <th>nas_delay</th>\n",
       "      <th>security_delay</th>\n",
       "      <th>late_aircraft_delay</th>\n",
       "      <th>arr_delay</th>\n",
       "      <th>dep_delay</th>\n",
       "    </tr>\n",
       "  </thead>\n",
       "  <tbody>\n",
       "    <tr>\n",
       "      <th>0</th>\n",
       "      <td>-0.135606</td>\n",
       "      <td>-0.049682</td>\n",
       "      <td>-0.167608</td>\n",
       "      <td>-0.01708</td>\n",
       "      <td>-0.203104</td>\n",
       "      <td>-0.364476</td>\n",
       "      <td>-0.381773</td>\n",
       "    </tr>\n",
       "    <tr>\n",
       "      <th>1</th>\n",
       "      <td>-0.135606</td>\n",
       "      <td>-0.049682</td>\n",
       "      <td>-0.167608</td>\n",
       "      <td>-0.01708</td>\n",
       "      <td>-0.203104</td>\n",
       "      <td>-0.070609</td>\n",
       "      <td>0.007987</td>\n",
       "    </tr>\n",
       "    <tr>\n",
       "      <th>2</th>\n",
       "      <td>-0.135606</td>\n",
       "      <td>-0.049682</td>\n",
       "      <td>-0.167608</td>\n",
       "      <td>-0.01708</td>\n",
       "      <td>-0.203104</td>\n",
       "      <td>-0.658343</td>\n",
       "      <td>-0.422801</td>\n",
       "    </tr>\n",
       "    <tr>\n",
       "      <th>3</th>\n",
       "      <td>3.682226</td>\n",
       "      <td>-0.049682</td>\n",
       "      <td>-0.006779</td>\n",
       "      <td>-0.01708</td>\n",
       "      <td>-0.203104</td>\n",
       "      <td>2.162777</td>\n",
       "      <td>2.100382</td>\n",
       "    </tr>\n",
       "    <tr>\n",
       "      <th>4</th>\n",
       "      <td>-0.135606</td>\n",
       "      <td>-0.049682</td>\n",
       "      <td>-0.167608</td>\n",
       "      <td>-0.01708</td>\n",
       "      <td>-0.203104</td>\n",
       "      <td>0.125302</td>\n",
       "      <td>0.172096</td>\n",
       "    </tr>\n",
       "    <tr>\n",
       "      <th>...</th>\n",
       "      <td>...</td>\n",
       "      <td>...</td>\n",
       "      <td>...</td>\n",
       "      <td>...</td>\n",
       "      <td>...</td>\n",
       "      <td>...</td>\n",
       "      <td>...</td>\n",
       "    </tr>\n",
       "    <tr>\n",
       "      <th>78399</th>\n",
       "      <td>-0.135606</td>\n",
       "      <td>-0.049682</td>\n",
       "      <td>-0.167608</td>\n",
       "      <td>-0.01708</td>\n",
       "      <td>-0.203104</td>\n",
       "      <td>-0.168565</td>\n",
       "      <td>-0.238178</td>\n",
       "    </tr>\n",
       "    <tr>\n",
       "      <th>78400</th>\n",
       "      <td>-0.135606</td>\n",
       "      <td>-0.049682</td>\n",
       "      <td>-0.167608</td>\n",
       "      <td>-0.01708</td>\n",
       "      <td>-0.203104</td>\n",
       "      <td>-0.501614</td>\n",
       "      <td>-0.217664</td>\n",
       "    </tr>\n",
       "    <tr>\n",
       "      <th>78401</th>\n",
       "      <td>-0.135606</td>\n",
       "      <td>-0.049682</td>\n",
       "      <td>-0.167608</td>\n",
       "      <td>-0.01708</td>\n",
       "      <td>-0.203104</td>\n",
       "      <td>-0.482023</td>\n",
       "      <td>-0.320232</td>\n",
       "    </tr>\n",
       "    <tr>\n",
       "      <th>78402</th>\n",
       "      <td>-0.135606</td>\n",
       "      <td>-0.049682</td>\n",
       "      <td>-0.167608</td>\n",
       "      <td>-0.01708</td>\n",
       "      <td>-0.203104</td>\n",
       "      <td>-0.168565</td>\n",
       "      <td>0.028500</td>\n",
       "    </tr>\n",
       "    <tr>\n",
       "      <th>78403</th>\n",
       "      <td>-0.135606</td>\n",
       "      <td>-0.049682</td>\n",
       "      <td>-0.167608</td>\n",
       "      <td>-0.01708</td>\n",
       "      <td>4.575486</td>\n",
       "      <td>2.358688</td>\n",
       "      <td>2.490142</td>\n",
       "    </tr>\n",
       "  </tbody>\n",
       "</table>\n",
       "<p>78404 rows × 7 columns</p>\n",
       "</div>"
      ],
      "text/plain": [
       "       carrier_delay  weather_delay  nas_delay  security_delay  \\\n",
       "0          -0.135606      -0.049682  -0.167608        -0.01708   \n",
       "1          -0.135606      -0.049682  -0.167608        -0.01708   \n",
       "2          -0.135606      -0.049682  -0.167608        -0.01708   \n",
       "3           3.682226      -0.049682  -0.006779        -0.01708   \n",
       "4          -0.135606      -0.049682  -0.167608        -0.01708   \n",
       "...              ...            ...        ...             ...   \n",
       "78399      -0.135606      -0.049682  -0.167608        -0.01708   \n",
       "78400      -0.135606      -0.049682  -0.167608        -0.01708   \n",
       "78401      -0.135606      -0.049682  -0.167608        -0.01708   \n",
       "78402      -0.135606      -0.049682  -0.167608        -0.01708   \n",
       "78403      -0.135606      -0.049682  -0.167608        -0.01708   \n",
       "\n",
       "       late_aircraft_delay  arr_delay  dep_delay  \n",
       "0                -0.203104  -0.364476  -0.381773  \n",
       "1                -0.203104  -0.070609   0.007987  \n",
       "2                -0.203104  -0.658343  -0.422801  \n",
       "3                -0.203104   2.162777   2.100382  \n",
       "4                -0.203104   0.125302   0.172096  \n",
       "...                    ...        ...        ...  \n",
       "78399            -0.203104  -0.168565  -0.238178  \n",
       "78400            -0.203104  -0.501614  -0.217664  \n",
       "78401            -0.203104  -0.482023  -0.320232  \n",
       "78402            -0.203104  -0.168565   0.028500  \n",
       "78403             4.575486   2.358688   2.490142  \n",
       "\n",
       "[78404 rows x 7 columns]"
      ]
     },
     "execution_count": 17,
     "metadata": {},
     "output_type": "execute_result"
    }
   ],
   "source": [
    "# normalize data with z-score as it can test for normal distribution and outliers\n",
    "train_flights_delays_zscore = train_flights_delays.apply(zscore)\n",
    "train_flights_delays_zscore"
   ]
  },
  {
   "cell_type": "code",
   "execution_count": 18,
   "metadata": {},
   "outputs": [
    {
     "data": {
      "image/png": "[encoded data removed]",
      "text/plain": [
       "<Figure size 640x480 with 1 Axes>"
      ]
     },
     "metadata": {},
     "output_type": "display_data"
    }
   ],
   "source": [
    "# plot arr_delay histogram\n",
    "plt.hist(train_flights_delays_zscore['arr_delay'], bins=50)\n",
    "plt.title(\"Histogram of Arrival Delay (Z-Score)\")\n",
    "plt.xlabel(\"Arrival Delay (Z-Score)\")\n",
    "plt.ylabel(\"Frequency\")\n",
    "plt.xlim(-5, 20)  # x-axis limits to show negative values\n",
    "plt.show()"
   ]
  },
  {
   "cell_type": "code",
   "execution_count": 19,
   "metadata": {},
   "outputs": [
    {
     "data": {
      "image/png": "[encoded data removed]",
      "text/plain": [
       "<Figure size 640x480 with 1 Axes>"
      ]
     },
     "metadata": {},
     "output_type": "display_data"
    }
   ],
   "source": [
    "# plot dep_delay histogram\n",
    "plt.hist(train_flights_delays_zscore['dep_delay'], bins=30)\n",
    "plt.title(\"Histogram of Departure Delay (Z-Score)\")\n",
    "plt.xlabel(\"Departure Delay (Z-Score)\")\n",
    "plt.ylabel(\"Frequency\")\n",
    "plt.xlim(-5, 20) # x-axis limits to show negative values\n",
    "plt.show()"
   ]
  },
  {
   "cell_type": "markdown",
   "metadata": {},
   "source": [
    "We can see both charts do not follow a normal distribution and seem skewed to the right. Also do not see any major outliers for both plots"
   ]
  },
  {
   "cell_type": "markdown",
   "metadata": {},
   "source": [
    "### Arrival delay shapiro test"
   ]
  },
  {
   "cell_type": "code",
   "execution_count": 20,
   "metadata": {},
   "outputs": [
    {
     "name": "stderr",
     "output_type": "stream",
     "text": [
      "C:\\ProgramData\\Anaconda3\\lib\\site-packages\\scipy\\stats\\_morestats.py:1800: UserWarning: p-value may not be accurate for N > 5000.\n",
      "  warnings.warn(\"p-value may not be accurate for N > 5000.\")\n"
     ]
    }
   ],
   "source": [
    "# shapiro-wilk normality test on arr_delay\n",
    "stat, p_value = shapiro(train_flights_delays_zscore['arr_delay'])"
   ]
  },
  {
   "cell_type": "code",
   "execution_count": 21,
   "metadata": {},
   "outputs": [
    {
     "name": "stdout",
     "output_type": "stream",
     "text": [
      "Shapiro-Wilk test statistic:  0.47038, p-value:  0.00000\n",
      "since p-value is less than 0.05 we can reject the null hypothesis & say it is not normally distributed.\n"
     ]
    }
   ],
   "source": [
    "# print the test results:\n",
    "print(f\"Shapiro-Wilk test statistic: {stat: .5f}, p-value: {p_value: .5f}\") # .5f sets decimal of float to 5\n",
    "if p_value > 0.05:\n",
    "    print('arr_delay is normally distributed')\n",
    "else:\n",
    "    print('since p-value is less than 0.05 we can reject the null hypothesis & say it is not normally distributed.')"
   ]
  },
  {
   "cell_type": "markdown",
   "metadata": {},
   "source": [
    "### Departure delay shapiro test"
   ]
  },
  {
   "cell_type": "code",
   "execution_count": 22,
   "metadata": {},
   "outputs": [],
   "source": [
    "# shapiro-wilk normality test on dep_delay\n",
    "stat, p_value = shapiro(train_flights_delays_zscore['dep_delay'])"
   ]
  },
  {
   "cell_type": "code",
   "execution_count": 23,
   "metadata": {},
   "outputs": [
    {
     "name": "stdout",
     "output_type": "stream",
     "text": [
      "Shapiro-Wilk test statistic:  0.36567, p-value:  0.00000\n",
      "since p-value is less than 0.05 we can reject the null hypothesis & say it is not normally distributed.\n"
     ]
    }
   ],
   "source": [
    "print(f\"Shapiro-Wilk test statistic: {stat: .5f}, p-value: {p_value: .5f}\") # .5f sets decimal of float to 5\n",
    "if p_value > 0.05:\n",
    "    print('arr_delay is normally distributed')\n",
    "else:\n",
    "    print('since p-value is less than 0.05 we can reject the null hypothesis & say it is not normally distributed.')"
   ]
  },
  {
   "cell_type": "markdown",
   "metadata": {},
   "source": [
    "## **Task 2**: Is average/median monthly delay different during the year? If yes, which are months with the biggest delays and what could be the reason?"
   ]
  },
  {
   "cell_type": "code",
   "execution_count": 24,
   "metadata": {},
   "outputs": [
    {
     "data": {
      "text/html": [
       "<div>\n",
       "<style scoped>\n",
       "    .dataframe tbody tr th:only-of-type {\n",
       "        vertical-align: middle;\n",
       "    }\n",
       "\n",
       "    .dataframe tbody tr th {\n",
       "        vertical-align: top;\n",
       "    }\n",
       "\n",
       "    .dataframe thead th {\n",
       "        text-align: right;\n",
       "    }\n",
       "</style>\n",
       "<table border=\"1\" class=\"dataframe\">\n",
       "  <thead>\n",
       "    <tr style=\"text-align: right;\">\n",
       "      <th></th>\n",
       "      <th>fl_date</th>\n",
       "      <th>arr_delay</th>\n",
       "      <th>dep_delay</th>\n",
       "    </tr>\n",
       "  </thead>\n",
       "  <tbody>\n",
       "    <tr>\n",
       "      <th>0</th>\n",
       "      <td>2018-08-18</td>\n",
       "      <td>-13.0</td>\n",
       "      <td>-8.0</td>\n",
       "    </tr>\n",
       "    <tr>\n",
       "      <th>1</th>\n",
       "      <td>2019-05-04</td>\n",
       "      <td>2.0</td>\n",
       "      <td>11.0</td>\n",
       "    </tr>\n",
       "    <tr>\n",
       "      <th>2</th>\n",
       "      <td>2018-12-05</td>\n",
       "      <td>-28.0</td>\n",
       "      <td>-10.0</td>\n",
       "    </tr>\n",
       "    <tr>\n",
       "      <th>3</th>\n",
       "      <td>2018-06-25</td>\n",
       "      <td>116.0</td>\n",
       "      <td>113.0</td>\n",
       "    </tr>\n",
       "    <tr>\n",
       "      <th>4</th>\n",
       "      <td>2018-08-21</td>\n",
       "      <td>12.0</td>\n",
       "      <td>19.0</td>\n",
       "    </tr>\n",
       "    <tr>\n",
       "      <th>...</th>\n",
       "      <td>...</td>\n",
       "      <td>...</td>\n",
       "      <td>...</td>\n",
       "    </tr>\n",
       "    <tr>\n",
       "      <th>78399</th>\n",
       "      <td>2019-06-19</td>\n",
       "      <td>-3.0</td>\n",
       "      <td>-1.0</td>\n",
       "    </tr>\n",
       "    <tr>\n",
       "      <th>78400</th>\n",
       "      <td>2019-06-24</td>\n",
       "      <td>-20.0</td>\n",
       "      <td>0.0</td>\n",
       "    </tr>\n",
       "    <tr>\n",
       "      <th>78401</th>\n",
       "      <td>2019-05-23</td>\n",
       "      <td>-19.0</td>\n",
       "      <td>-5.0</td>\n",
       "    </tr>\n",
       "    <tr>\n",
       "      <th>78402</th>\n",
       "      <td>2019-08-21</td>\n",
       "      <td>-3.0</td>\n",
       "      <td>12.0</td>\n",
       "    </tr>\n",
       "    <tr>\n",
       "      <th>78403</th>\n",
       "      <td>2018-03-26</td>\n",
       "      <td>126.0</td>\n",
       "      <td>132.0</td>\n",
       "    </tr>\n",
       "  </tbody>\n",
       "</table>\n",
       "<p>78404 rows × 3 columns</p>\n",
       "</div>"
      ],
      "text/plain": [
       "          fl_date  arr_delay  dep_delay\n",
       "0      2018-08-18      -13.0       -8.0\n",
       "1      2019-05-04        2.0       11.0\n",
       "2      2018-12-05      -28.0      -10.0\n",
       "3      2018-06-25      116.0      113.0\n",
       "4      2018-08-21       12.0       19.0\n",
       "...           ...        ...        ...\n",
       "78399  2019-06-19       -3.0       -1.0\n",
       "78400  2019-06-24      -20.0        0.0\n",
       "78401  2019-05-23      -19.0       -5.0\n",
       "78402  2019-08-21       -3.0       12.0\n",
       "78403  2018-03-26      126.0      132.0\n",
       "\n",
       "[78404 rows x 3 columns]"
      ]
     },
     "execution_count": 24,
     "metadata": {},
     "output_type": "execute_result"
    }
   ],
   "source": [
    "# Select columns: flight date, arrival and departure delay\n",
    "monthly_delays = train_flights_df[['fl_date', 'arr_delay', 'dep_delay']]\n",
    "monthly_delays"
   ]
  },
  {
   "cell_type": "code",
   "execution_count": 25,
   "metadata": {},
   "outputs": [
    {
     "data": {
      "text/plain": [
       "fl_date       object\n",
       "arr_delay    float64\n",
       "dep_delay    float64\n",
       "dtype: object"
      ]
     },
     "execution_count": 25,
     "metadata": {},
     "output_type": "execute_result"
    }
   ],
   "source": [
    "# fl_date is an object but should be converted to datetime\n",
    "monthly_delays.dtypes"
   ]
  },
  {
   "cell_type": "code",
   "execution_count": 26,
   "metadata": {},
   "outputs": [
    {
     "name": "stderr",
     "output_type": "stream",
     "text": [
      "C:\\Users\\Jagvir Dhesi\\AppData\\Local\\Temp\\ipykernel_388\\1986730219.py:2: SettingWithCopyWarning: \n",
      "A value is trying to be set on a copy of a slice from a DataFrame.\n",
      "Try using .loc[row_indexer,col_indexer] = value instead\n",
      "\n",
      "See the caveats in the documentation: https://pandas.pydata.org/pandas-docs/stable/user_guide/indexing.html#returning-a-view-versus-a-copy\n",
      "  monthly_delays['fl_date'] = pd.to_datetime(monthly_delays['fl_date'])\n"
     ]
    }
   ],
   "source": [
    "# convert to datetime\n",
    "monthly_delays['fl_date'] = pd.to_datetime(monthly_delays['fl_date'])"
   ]
  },
  {
   "cell_type": "code",
   "execution_count": 27,
   "metadata": {
    "tags": []
   },
   "outputs": [
    {
     "name": "stderr",
     "output_type": "stream",
     "text": [
      "C:\\Users\\Jagvir Dhesi\\AppData\\Local\\Temp\\ipykernel_388\\292276202.py:2: SettingWithCopyWarning: \n",
      "A value is trying to be set on a copy of a slice from a DataFrame.\n",
      "Try using .loc[row_indexer,col_indexer] = value instead\n",
      "\n",
      "See the caveats in the documentation: https://pandas.pydata.org/pandas-docs/stable/user_guide/indexing.html#returning-a-view-versus-a-copy\n",
      "  monthly_delays['month'] = monthly_delays['fl_date'].dt.month\n"
     ]
    }
   ],
   "source": [
    "# make a month column for easier readability \n",
    "monthly_delays['month'] = monthly_delays['fl_date'].dt.month"
   ]
  },
  {
   "cell_type": "code",
   "execution_count": 28,
   "metadata": {},
   "outputs": [
    {
     "data": {
      "text/plain": [
       "fl_date      datetime64[ns]\n",
       "arr_delay           float64\n",
       "dep_delay           float64\n",
       "month                 int64\n",
       "dtype: object"
      ]
     },
     "execution_count": 28,
     "metadata": {},
     "output_type": "execute_result"
    }
   ],
   "source": [
    "monthly_delays.dtypes"
   ]
  },
  {
   "cell_type": "code",
   "execution_count": 29,
   "metadata": {},
   "outputs": [
    {
     "data": {
      "text/html": [
       "<div>\n",
       "<style scoped>\n",
       "    .dataframe tbody tr th:only-of-type {\n",
       "        vertical-align: middle;\n",
       "    }\n",
       "\n",
       "    .dataframe tbody tr th {\n",
       "        vertical-align: top;\n",
       "    }\n",
       "\n",
       "    .dataframe thead th {\n",
       "        text-align: right;\n",
       "    }\n",
       "</style>\n",
       "<table border=\"1\" class=\"dataframe\">\n",
       "  <thead>\n",
       "    <tr style=\"text-align: right;\">\n",
       "      <th></th>\n",
       "      <th>fl_date</th>\n",
       "      <th>arr_delay</th>\n",
       "      <th>dep_delay</th>\n",
       "      <th>month</th>\n",
       "    </tr>\n",
       "  </thead>\n",
       "  <tbody>\n",
       "    <tr>\n",
       "      <th>0</th>\n",
       "      <td>2018-08-18</td>\n",
       "      <td>-13.0</td>\n",
       "      <td>-8.0</td>\n",
       "      <td>8</td>\n",
       "    </tr>\n",
       "    <tr>\n",
       "      <th>1</th>\n",
       "      <td>2019-05-04</td>\n",
       "      <td>2.0</td>\n",
       "      <td>11.0</td>\n",
       "      <td>5</td>\n",
       "    </tr>\n",
       "    <tr>\n",
       "      <th>2</th>\n",
       "      <td>2018-12-05</td>\n",
       "      <td>-28.0</td>\n",
       "      <td>-10.0</td>\n",
       "      <td>12</td>\n",
       "    </tr>\n",
       "    <tr>\n",
       "      <th>3</th>\n",
       "      <td>2018-06-25</td>\n",
       "      <td>116.0</td>\n",
       "      <td>113.0</td>\n",
       "      <td>6</td>\n",
       "    </tr>\n",
       "    <tr>\n",
       "      <th>4</th>\n",
       "      <td>2018-08-21</td>\n",
       "      <td>12.0</td>\n",
       "      <td>19.0</td>\n",
       "      <td>8</td>\n",
       "    </tr>\n",
       "  </tbody>\n",
       "</table>\n",
       "</div>"
      ],
      "text/plain": [
       "     fl_date  arr_delay  dep_delay  month\n",
       "0 2018-08-18      -13.0       -8.0      8\n",
       "1 2019-05-04        2.0       11.0      5\n",
       "2 2018-12-05      -28.0      -10.0     12\n",
       "3 2018-06-25      116.0      113.0      6\n",
       "4 2018-08-21       12.0       19.0      8"
      ]
     },
     "execution_count": 29,
     "metadata": {},
     "output_type": "execute_result"
    }
   ],
   "source": [
    "monthly_delays.head()"
   ]
  },
  {
   "cell_type": "code",
   "execution_count": 30,
   "metadata": {
    "tags": []
   },
   "outputs": [],
   "source": [
    "# since we have the month column and only need that to answer this task we can remove fl_date\n",
    "monthly_delays = monthly_delays.drop('fl_date', axis = 1)"
   ]
  },
  {
   "cell_type": "code",
   "execution_count": 31,
   "metadata": {},
   "outputs": [
    {
     "data": {
      "text/html": [
       "<div>\n",
       "<style scoped>\n",
       "    .dataframe tbody tr th:only-of-type {\n",
       "        vertical-align: middle;\n",
       "    }\n",
       "\n",
       "    .dataframe tbody tr th {\n",
       "        vertical-align: top;\n",
       "    }\n",
       "\n",
       "    .dataframe thead th {\n",
       "        text-align: right;\n",
       "    }\n",
       "</style>\n",
       "<table border=\"1\" class=\"dataframe\">\n",
       "  <thead>\n",
       "    <tr style=\"text-align: right;\">\n",
       "      <th></th>\n",
       "      <th>arr_delay</th>\n",
       "      <th>dep_delay</th>\n",
       "      <th>month</th>\n",
       "    </tr>\n",
       "  </thead>\n",
       "  <tbody>\n",
       "    <tr>\n",
       "      <th>0</th>\n",
       "      <td>-13.0</td>\n",
       "      <td>-8.0</td>\n",
       "      <td>8</td>\n",
       "    </tr>\n",
       "    <tr>\n",
       "      <th>1</th>\n",
       "      <td>2.0</td>\n",
       "      <td>11.0</td>\n",
       "      <td>5</td>\n",
       "    </tr>\n",
       "    <tr>\n",
       "      <th>2</th>\n",
       "      <td>-28.0</td>\n",
       "      <td>-10.0</td>\n",
       "      <td>12</td>\n",
       "    </tr>\n",
       "    <tr>\n",
       "      <th>3</th>\n",
       "      <td>116.0</td>\n",
       "      <td>113.0</td>\n",
       "      <td>6</td>\n",
       "    </tr>\n",
       "    <tr>\n",
       "      <th>4</th>\n",
       "      <td>12.0</td>\n",
       "      <td>19.0</td>\n",
       "      <td>8</td>\n",
       "    </tr>\n",
       "  </tbody>\n",
       "</table>\n",
       "</div>"
      ],
      "text/plain": [
       "   arr_delay  dep_delay  month\n",
       "0      -13.0       -8.0      8\n",
       "1        2.0       11.0      5\n",
       "2      -28.0      -10.0     12\n",
       "3      116.0      113.0      6\n",
       "4       12.0       19.0      8"
      ]
     },
     "execution_count": 31,
     "metadata": {},
     "output_type": "execute_result"
    }
   ],
   "source": [
    "monthly_delays.head()"
   ]
  },
  {
   "cell_type": "code",
   "execution_count": 32,
   "metadata": {},
   "outputs": [
    {
     "data": {
      "text/plain": [
       "arr_delay    0\n",
       "dep_delay    0\n",
       "month        0\n",
       "dtype: int64"
      ]
     },
     "execution_count": 32,
     "metadata": {},
     "output_type": "execute_result"
    }
   ],
   "source": [
    "monthly_delays.isnull().sum()"
   ]
  },
  {
   "cell_type": "code",
   "execution_count": 33,
   "metadata": {},
   "outputs": [
    {
     "data": {
      "text/html": [
       "<div>\n",
       "<style scoped>\n",
       "    .dataframe tbody tr th:only-of-type {\n",
       "        vertical-align: middle;\n",
       "    }\n",
       "\n",
       "    .dataframe tbody tr th {\n",
       "        vertical-align: top;\n",
       "    }\n",
       "\n",
       "    .dataframe thead th {\n",
       "        text-align: right;\n",
       "    }\n",
       "</style>\n",
       "<table border=\"1\" class=\"dataframe\">\n",
       "  <thead>\n",
       "    <tr style=\"text-align: right;\">\n",
       "      <th></th>\n",
       "      <th>arr_delay</th>\n",
       "      <th>dep_delay</th>\n",
       "    </tr>\n",
       "    <tr>\n",
       "      <th>month</th>\n",
       "      <th></th>\n",
       "      <th></th>\n",
       "    </tr>\n",
       "  </thead>\n",
       "  <tbody>\n",
       "    <tr>\n",
       "      <th>1</th>\n",
       "      <td>4.304698</td>\n",
       "      <td>10.297780</td>\n",
       "    </tr>\n",
       "    <tr>\n",
       "      <th>2</th>\n",
       "      <td>5.752748</td>\n",
       "      <td>10.724635</td>\n",
       "    </tr>\n",
       "    <tr>\n",
       "      <th>3</th>\n",
       "      <td>2.936123</td>\n",
       "      <td>8.613014</td>\n",
       "    </tr>\n",
       "    <tr>\n",
       "      <th>4</th>\n",
       "      <td>3.460564</td>\n",
       "      <td>8.616046</td>\n",
       "    </tr>\n",
       "    <tr>\n",
       "      <th>5</th>\n",
       "      <td>6.543094</td>\n",
       "      <td>11.404075</td>\n",
       "    </tr>\n",
       "    <tr>\n",
       "      <th>6</th>\n",
       "      <td>11.055258</td>\n",
       "      <td>15.358734</td>\n",
       "    </tr>\n",
       "    <tr>\n",
       "      <th>7</th>\n",
       "      <td>8.551533</td>\n",
       "      <td>13.057212</td>\n",
       "    </tr>\n",
       "    <tr>\n",
       "      <th>8</th>\n",
       "      <td>9.484580</td>\n",
       "      <td>13.829866</td>\n",
       "    </tr>\n",
       "    <tr>\n",
       "      <th>9</th>\n",
       "      <td>1.697463</td>\n",
       "      <td>6.655183</td>\n",
       "    </tr>\n",
       "    <tr>\n",
       "      <th>10</th>\n",
       "      <td>3.431364</td>\n",
       "      <td>7.865861</td>\n",
       "    </tr>\n",
       "    <tr>\n",
       "      <th>11</th>\n",
       "      <td>4.252299</td>\n",
       "      <td>9.369176</td>\n",
       "    </tr>\n",
       "    <tr>\n",
       "      <th>12</th>\n",
       "      <td>5.240127</td>\n",
       "      <td>11.111061</td>\n",
       "    </tr>\n",
       "  </tbody>\n",
       "</table>\n",
       "</div>"
      ],
      "text/plain": [
       "       arr_delay  dep_delay\n",
       "month                      \n",
       "1       4.304698  10.297780\n",
       "2       5.752748  10.724635\n",
       "3       2.936123   8.613014\n",
       "4       3.460564   8.616046\n",
       "5       6.543094  11.404075\n",
       "6      11.055258  15.358734\n",
       "7       8.551533  13.057212\n",
       "8       9.484580  13.829866\n",
       "9       1.697463   6.655183\n",
       "10      3.431364   7.865861\n",
       "11      4.252299   9.369176\n",
       "12      5.240127  11.111061"
      ]
     },
     "execution_count": 33,
     "metadata": {},
     "output_type": "execute_result"
    }
   ],
   "source": [
    "# calculate mean monthly delay\n",
    "monthly_delays_mean = monthly_delays.groupby('month').mean()\n",
    "monthly_delays_mean"
   ]
  },
  {
   "cell_type": "code",
   "execution_count": 34,
   "metadata": {},
   "outputs": [
    {
     "data": {
      "text/html": [
       "<div>\n",
       "<style scoped>\n",
       "    .dataframe tbody tr th:only-of-type {\n",
       "        vertical-align: middle;\n",
       "    }\n",
       "\n",
       "    .dataframe tbody tr th {\n",
       "        vertical-align: top;\n",
       "    }\n",
       "\n",
       "    .dataframe thead th {\n",
       "        text-align: right;\n",
       "    }\n",
       "</style>\n",
       "<table border=\"1\" class=\"dataframe\">\n",
       "  <thead>\n",
       "    <tr style=\"text-align: right;\">\n",
       "      <th></th>\n",
       "      <th>arr_delay</th>\n",
       "      <th>dep_delay</th>\n",
       "    </tr>\n",
       "    <tr>\n",
       "      <th>month</th>\n",
       "      <th></th>\n",
       "      <th></th>\n",
       "    </tr>\n",
       "  </thead>\n",
       "  <tbody>\n",
       "    <tr>\n",
       "      <th>1</th>\n",
       "      <td>-7.0</td>\n",
       "      <td>-3.0</td>\n",
       "    </tr>\n",
       "    <tr>\n",
       "      <th>2</th>\n",
       "      <td>-6.0</td>\n",
       "      <td>-2.0</td>\n",
       "    </tr>\n",
       "    <tr>\n",
       "      <th>3</th>\n",
       "      <td>-7.0</td>\n",
       "      <td>-2.0</td>\n",
       "    </tr>\n",
       "    <tr>\n",
       "      <th>4</th>\n",
       "      <td>-7.0</td>\n",
       "      <td>-3.0</td>\n",
       "    </tr>\n",
       "    <tr>\n",
       "      <th>5</th>\n",
       "      <td>-6.0</td>\n",
       "      <td>-2.0</td>\n",
       "    </tr>\n",
       "    <tr>\n",
       "      <th>6</th>\n",
       "      <td>-4.0</td>\n",
       "      <td>-1.0</td>\n",
       "    </tr>\n",
       "    <tr>\n",
       "      <th>7</th>\n",
       "      <td>-5.0</td>\n",
       "      <td>-2.0</td>\n",
       "    </tr>\n",
       "    <tr>\n",
       "      <th>8</th>\n",
       "      <td>-5.0</td>\n",
       "      <td>-2.0</td>\n",
       "    </tr>\n",
       "    <tr>\n",
       "      <th>9</th>\n",
       "      <td>-8.0</td>\n",
       "      <td>-3.0</td>\n",
       "    </tr>\n",
       "    <tr>\n",
       "      <th>10</th>\n",
       "      <td>-6.0</td>\n",
       "      <td>-3.0</td>\n",
       "    </tr>\n",
       "    <tr>\n",
       "      <th>11</th>\n",
       "      <td>-6.0</td>\n",
       "      <td>-3.0</td>\n",
       "    </tr>\n",
       "    <tr>\n",
       "      <th>12</th>\n",
       "      <td>-6.0</td>\n",
       "      <td>-2.0</td>\n",
       "    </tr>\n",
       "  </tbody>\n",
       "</table>\n",
       "</div>"
      ],
      "text/plain": [
       "       arr_delay  dep_delay\n",
       "month                      \n",
       "1           -7.0       -3.0\n",
       "2           -6.0       -2.0\n",
       "3           -7.0       -2.0\n",
       "4           -7.0       -3.0\n",
       "5           -6.0       -2.0\n",
       "6           -4.0       -1.0\n",
       "7           -5.0       -2.0\n",
       "8           -5.0       -2.0\n",
       "9           -8.0       -3.0\n",
       "10          -6.0       -3.0\n",
       "11          -6.0       -3.0\n",
       "12          -6.0       -2.0"
      ]
     },
     "execution_count": 34,
     "metadata": {},
     "output_type": "execute_result"
    }
   ],
   "source": [
    "# calculate median monthly delay\n",
    "monthly_delays_median = monthly_delays.groupby('month').median()\n",
    "monthly_delays_median"
   ]
  },
  {
   "cell_type": "code",
   "execution_count": 35,
   "metadata": {},
   "outputs": [
    {
     "data": {
      "image/png": "[encoded data removed]",
      "text/plain": [
       "<Figure size 640x480 with 1 Axes>"
      ]
     },
     "metadata": {},
     "output_type": "display_data"
    }
   ],
   "source": [
    "# plotting mean of monthly delays as bar chart\n",
    "monthly_delays_mean.plot.bar(rot=1) # rot = 1 makes x-axis lables horizontal\n",
    "plt.xlabel('Month')\n",
    "plt.ylabel('Mean Delay Time (minutes)')\n",
    "plt.title('Mean Monthly Flight Delays')\n",
    "plt.legend(['Arrival Delay', 'Departure Delay'])\n",
    "plt.show()"
   ]
  },
  {
   "cell_type": "markdown",
   "metadata": {},
   "source": [
    "We can see that June & July has the highest average departure and arrival delays."
   ]
  },
  {
   "cell_type": "markdown",
   "metadata": {},
   "source": [
    "## **Task 3**: Does the weather affect the delay? \n",
    "Use the API to pull the weather information for flights. There is no need to get weather for ALL flights. We can choose the right representative sample. Let's focus on four weather types:\n",
    "- sunny\n",
    "- cloudy\n",
    "- rainy\n",
    "- snow.\n",
    "Test the hypothesis that these 4 delays are from the same distribution. If they are not, which ones are significantly different?"
   ]
  },
  {
   "cell_type": "code",
   "execution_count": null,
   "metadata": {},
   "outputs": [],
   "source": []
  },
  {
   "cell_type": "code",
   "execution_count": null,
   "metadata": {},
   "outputs": [],
   "source": []
  },
  {
   "cell_type": "markdown",
   "metadata": {},
   "source": [
    "## **Task 4**: How taxi times changing during the day? Does higher traffic lead to bigger taxi times?"
   ]
  },
  {
   "cell_type": "code",
   "execution_count": 36,
   "metadata": {},
   "outputs": [
    {
     "data": {
      "text/plain": [
       "Index(['fl_date', 'unique_carrier', 'branded_code_share', 'mkt_carrier_fl_num',\n",
       "       'op_unique_carrier', 'op_carrier_fl_num', 'origin', 'origin_city_name',\n",
       "       'dest', 'dest_city_name', 'crs_dep_time', 'dep_time', 'dep_delay',\n",
       "       'taxi_out', 'wheels_off', 'wheels_on', 'taxi_in', 'crs_arr_time',\n",
       "       'arr_time', 'arr_delay', 'cancelled', 'cancellation_code', 'diverted',\n",
       "       'dup', 'crs_elapsed_time', 'actual_elapsed_time', 'air_time',\n",
       "       'distance', 'carrier_delay', 'weather_delay', 'nas_delay',\n",
       "       'security_delay', 'late_aircraft_delay', 'route_id', 'month', 'year',\n",
       "       'carrier_group_new', 'sdomt_gallons', 'satl_gallons', 'spac_gallons',\n",
       "       'slat_gallons', 'sint_gallons', 'ts_gallons', 'tdomt_gallons',\n",
       "       'tint_gallons', 'total_gallons', 'sdomt_cost', 'satl_cost', 'spac_cost',\n",
       "       'slat_cost', 'sint_cost', 'ts_cost', 'tdomt_cost', 'tint_cost',\n",
       "       'total_cost'],\n",
       "      dtype='object')"
      ]
     },
     "execution_count": 36,
     "metadata": {},
     "output_type": "execute_result"
    }
   ],
   "source": [
    "train_flights_df.columns"
   ]
  },
  {
   "cell_type": "code",
   "execution_count": 37,
   "metadata": {},
   "outputs": [
    {
     "data": {
      "text/html": [
       "<div>\n",
       "<style scoped>\n",
       "    .dataframe tbody tr th:only-of-type {\n",
       "        vertical-align: middle;\n",
       "    }\n",
       "\n",
       "    .dataframe tbody tr th {\n",
       "        vertical-align: top;\n",
       "    }\n",
       "\n",
       "    .dataframe thead th {\n",
       "        text-align: right;\n",
       "    }\n",
       "</style>\n",
       "<table border=\"1\" class=\"dataframe\">\n",
       "  <thead>\n",
       "    <tr style=\"text-align: right;\">\n",
       "      <th></th>\n",
       "      <th>taxi_in</th>\n",
       "      <th>taxi_out</th>\n",
       "      <th>wheels_off</th>\n",
       "      <th>dep_time</th>\n",
       "      <th>dep_delay</th>\n",
       "    </tr>\n",
       "  </thead>\n",
       "  <tbody>\n",
       "    <tr>\n",
       "      <th>0</th>\n",
       "      <td>12.0</td>\n",
       "      <td>11.0</td>\n",
       "      <td>1546.0</td>\n",
       "      <td>1535.0</td>\n",
       "      <td>-8.0</td>\n",
       "    </tr>\n",
       "    <tr>\n",
       "      <th>1</th>\n",
       "      <td>4.0</td>\n",
       "      <td>10.0</td>\n",
       "      <td>1201.0</td>\n",
       "      <td>1151.0</td>\n",
       "      <td>11.0</td>\n",
       "    </tr>\n",
       "    <tr>\n",
       "      <th>2</th>\n",
       "      <td>7.0</td>\n",
       "      <td>15.0</td>\n",
       "      <td>1820.0</td>\n",
       "      <td>1805.0</td>\n",
       "      <td>-10.0</td>\n",
       "    </tr>\n",
       "    <tr>\n",
       "      <th>3</th>\n",
       "      <td>7.0</td>\n",
       "      <td>7.0</td>\n",
       "      <td>1908.0</td>\n",
       "      <td>1901.0</td>\n",
       "      <td>113.0</td>\n",
       "    </tr>\n",
       "    <tr>\n",
       "      <th>4</th>\n",
       "      <td>5.0</td>\n",
       "      <td>22.0</td>\n",
       "      <td>1831.0</td>\n",
       "      <td>1809.0</td>\n",
       "      <td>19.0</td>\n",
       "    </tr>\n",
       "  </tbody>\n",
       "</table>\n",
       "</div>"
      ],
      "text/plain": [
       "   taxi_in  taxi_out  wheels_off  dep_time  dep_delay\n",
       "0     12.0      11.0      1546.0    1535.0       -8.0\n",
       "1      4.0      10.0      1201.0    1151.0       11.0\n",
       "2      7.0      15.0      1820.0    1805.0      -10.0\n",
       "3      7.0       7.0      1908.0    1901.0      113.0\n",
       "4      5.0      22.0      1831.0    1809.0       19.0"
      ]
     },
     "execution_count": 37,
     "metadata": {},
     "output_type": "execute_result"
    }
   ],
   "source": [
    "# select columns for taxi times\n",
    "taxi_times = train_flights_df[['taxi_in', 'taxi_out', 'wheels_off', 'dep_time', 'dep_delay']]\n",
    "taxi_times.head()"
   ]
  },
  {
   "cell_type": "code",
   "execution_count": 38,
   "metadata": {
    "tags": []
   },
   "outputs": [
    {
     "name": "stderr",
     "output_type": "stream",
     "text": [
      "C:\\Users\\Jagvir Dhesi\\AppData\\Local\\Temp\\ipykernel_388\\244537654.py:2: SettingWithCopyWarning: \n",
      "A value is trying to be set on a copy of a slice from a DataFrame.\n",
      "Try using .loc[row_indexer,col_indexer] = value instead\n",
      "\n",
      "See the caveats in the documentation: https://pandas.pydata.org/pandas-docs/stable/user_guide/indexing.html#returning-a-view-versus-a-copy\n",
      "  taxi_times['taxi_total_time'] = taxi_times['taxi_in'] + taxi_times['taxi_out']\n"
     ]
    },
    {
     "data": {
      "text/html": [
       "<div>\n",
       "<style scoped>\n",
       "    .dataframe tbody tr th:only-of-type {\n",
       "        vertical-align: middle;\n",
       "    }\n",
       "\n",
       "    .dataframe tbody tr th {\n",
       "        vertical-align: top;\n",
       "    }\n",
       "\n",
       "    .dataframe thead th {\n",
       "        text-align: right;\n",
       "    }\n",
       "</style>\n",
       "<table border=\"1\" class=\"dataframe\">\n",
       "  <thead>\n",
       "    <tr style=\"text-align: right;\">\n",
       "      <th></th>\n",
       "      <th>taxi_in</th>\n",
       "      <th>taxi_out</th>\n",
       "      <th>wheels_off</th>\n",
       "      <th>dep_time</th>\n",
       "      <th>dep_delay</th>\n",
       "      <th>taxi_total_time</th>\n",
       "    </tr>\n",
       "  </thead>\n",
       "  <tbody>\n",
       "    <tr>\n",
       "      <th>0</th>\n",
       "      <td>12.0</td>\n",
       "      <td>11.0</td>\n",
       "      <td>1546.0</td>\n",
       "      <td>1535.0</td>\n",
       "      <td>-8.0</td>\n",
       "      <td>23.0</td>\n",
       "    </tr>\n",
       "    <tr>\n",
       "      <th>1</th>\n",
       "      <td>4.0</td>\n",
       "      <td>10.0</td>\n",
       "      <td>1201.0</td>\n",
       "      <td>1151.0</td>\n",
       "      <td>11.0</td>\n",
       "      <td>14.0</td>\n",
       "    </tr>\n",
       "    <tr>\n",
       "      <th>2</th>\n",
       "      <td>7.0</td>\n",
       "      <td>15.0</td>\n",
       "      <td>1820.0</td>\n",
       "      <td>1805.0</td>\n",
       "      <td>-10.0</td>\n",
       "      <td>22.0</td>\n",
       "    </tr>\n",
       "    <tr>\n",
       "      <th>3</th>\n",
       "      <td>7.0</td>\n",
       "      <td>7.0</td>\n",
       "      <td>1908.0</td>\n",
       "      <td>1901.0</td>\n",
       "      <td>113.0</td>\n",
       "      <td>14.0</td>\n",
       "    </tr>\n",
       "    <tr>\n",
       "      <th>4</th>\n",
       "      <td>5.0</td>\n",
       "      <td>22.0</td>\n",
       "      <td>1831.0</td>\n",
       "      <td>1809.0</td>\n",
       "      <td>19.0</td>\n",
       "      <td>27.0</td>\n",
       "    </tr>\n",
       "  </tbody>\n",
       "</table>\n",
       "</div>"
      ],
      "text/plain": [
       "   taxi_in  taxi_out  wheels_off  dep_time  dep_delay  taxi_total_time\n",
       "0     12.0      11.0      1546.0    1535.0       -8.0             23.0\n",
       "1      4.0      10.0      1201.0    1151.0       11.0             14.0\n",
       "2      7.0      15.0      1820.0    1805.0      -10.0             22.0\n",
       "3      7.0       7.0      1908.0    1901.0      113.0             14.0\n",
       "4      5.0      22.0      1831.0    1809.0       19.0             27.0"
      ]
     },
     "execution_count": 38,
     "metadata": {},
     "output_type": "execute_result"
    }
   ],
   "source": [
    "# create new column with the total time of taxis in and out\n",
    "taxi_times['taxi_total_time'] = taxi_times['taxi_in'] + taxi_times['taxi_out']\n",
    "taxi_times.head()"
   ]
  },
  {
   "cell_type": "code",
   "execution_count": 39,
   "metadata": {
    "tags": []
   },
   "outputs": [
    {
     "name": "stderr",
     "output_type": "stream",
     "text": [
      "C:\\Users\\Jagvir Dhesi\\AppData\\Local\\Temp\\ipykernel_388\\181211737.py:3: SettingWithCopyWarning: \n",
      "A value is trying to be set on a copy of a slice from a DataFrame.\n",
      "Try using .loc[row_indexer,col_indexer] = value instead\n",
      "\n",
      "See the caveats in the documentation: https://pandas.pydata.org/pandas-docs/stable/user_guide/indexing.html#returning-a-view-versus-a-copy\n",
      "  taxi_times['dep_time'] = pd.to_datetime(taxi_times['dep_time'], format='%H%M', errors='coerce')\n"
     ]
    }
   ],
   "source": [
    "# extract hour from dep_time and insert as new column to see the hours of the flights throughout the day\n",
    "# first convert dep_time to datetime\n",
    "taxi_times['dep_time'] = pd.to_datetime(taxi_times['dep_time'], format='%H%M', errors='coerce')"
   ]
  },
  {
   "cell_type": "code",
   "execution_count": 40,
   "metadata": {
    "tags": []
   },
   "outputs": [
    {
     "name": "stderr",
     "output_type": "stream",
     "text": [
      "C:\\Users\\Jagvir Dhesi\\AppData\\Local\\Temp\\ipykernel_388\\1082825520.py:2: SettingWithCopyWarning: \n",
      "A value is trying to be set on a copy of a slice from a DataFrame.\n",
      "Try using .loc[row_indexer,col_indexer] = value instead\n",
      "\n",
      "See the caveats in the documentation: https://pandas.pydata.org/pandas-docs/stable/user_guide/indexing.html#returning-a-view-versus-a-copy\n",
      "  taxi_times['dep_hr'] = taxi_times['dep_time'].dt.hour\n"
     ]
    },
    {
     "data": {
      "text/html": [
       "<div>\n",
       "<style scoped>\n",
       "    .dataframe tbody tr th:only-of-type {\n",
       "        vertical-align: middle;\n",
       "    }\n",
       "\n",
       "    .dataframe tbody tr th {\n",
       "        vertical-align: top;\n",
       "    }\n",
       "\n",
       "    .dataframe thead th {\n",
       "        text-align: right;\n",
       "    }\n",
       "</style>\n",
       "<table border=\"1\" class=\"dataframe\">\n",
       "  <thead>\n",
       "    <tr style=\"text-align: right;\">\n",
       "      <th></th>\n",
       "      <th>taxi_in</th>\n",
       "      <th>taxi_out</th>\n",
       "      <th>wheels_off</th>\n",
       "      <th>dep_time</th>\n",
       "      <th>dep_delay</th>\n",
       "      <th>taxi_total_time</th>\n",
       "      <th>dep_hr</th>\n",
       "    </tr>\n",
       "  </thead>\n",
       "  <tbody>\n",
       "    <tr>\n",
       "      <th>0</th>\n",
       "      <td>12.0</td>\n",
       "      <td>11.0</td>\n",
       "      <td>1546.0</td>\n",
       "      <td>1900-01-01 15:35:00</td>\n",
       "      <td>-8.0</td>\n",
       "      <td>23.0</td>\n",
       "      <td>15.0</td>\n",
       "    </tr>\n",
       "    <tr>\n",
       "      <th>1</th>\n",
       "      <td>4.0</td>\n",
       "      <td>10.0</td>\n",
       "      <td>1201.0</td>\n",
       "      <td>1900-01-01 11:51:00</td>\n",
       "      <td>11.0</td>\n",
       "      <td>14.0</td>\n",
       "      <td>11.0</td>\n",
       "    </tr>\n",
       "    <tr>\n",
       "      <th>2</th>\n",
       "      <td>7.0</td>\n",
       "      <td>15.0</td>\n",
       "      <td>1820.0</td>\n",
       "      <td>1900-01-01 18:05:00</td>\n",
       "      <td>-10.0</td>\n",
       "      <td>22.0</td>\n",
       "      <td>18.0</td>\n",
       "    </tr>\n",
       "    <tr>\n",
       "      <th>3</th>\n",
       "      <td>7.0</td>\n",
       "      <td>7.0</td>\n",
       "      <td>1908.0</td>\n",
       "      <td>1900-01-01 19:01:00</td>\n",
       "      <td>113.0</td>\n",
       "      <td>14.0</td>\n",
       "      <td>19.0</td>\n",
       "    </tr>\n",
       "    <tr>\n",
       "      <th>4</th>\n",
       "      <td>5.0</td>\n",
       "      <td>22.0</td>\n",
       "      <td>1831.0</td>\n",
       "      <td>1900-01-01 18:09:00</td>\n",
       "      <td>19.0</td>\n",
       "      <td>27.0</td>\n",
       "      <td>18.0</td>\n",
       "    </tr>\n",
       "  </tbody>\n",
       "</table>\n",
       "</div>"
      ],
      "text/plain": [
       "   taxi_in  taxi_out  wheels_off            dep_time  dep_delay  \\\n",
       "0     12.0      11.0      1546.0 1900-01-01 15:35:00       -8.0   \n",
       "1      4.0      10.0      1201.0 1900-01-01 11:51:00       11.0   \n",
       "2      7.0      15.0      1820.0 1900-01-01 18:05:00      -10.0   \n",
       "3      7.0       7.0      1908.0 1900-01-01 19:01:00      113.0   \n",
       "4      5.0      22.0      1831.0 1900-01-01 18:09:00       19.0   \n",
       "\n",
       "   taxi_total_time  dep_hr  \n",
       "0             23.0    15.0  \n",
       "1             14.0    11.0  \n",
       "2             22.0    18.0  \n",
       "3             14.0    19.0  \n",
       "4             27.0    18.0  "
      ]
     },
     "execution_count": 40,
     "metadata": {},
     "output_type": "execute_result"
    }
   ],
   "source": [
    "# make dep_hr column\n",
    "taxi_times['dep_hr'] = taxi_times['dep_time'].dt.hour\n",
    "taxi_times.head()"
   ]
  },
  {
   "cell_type": "code",
   "execution_count": 41,
   "metadata": {},
   "outputs": [],
   "source": [
    "# we now use the columns 'taxi_total_time' and 'dep_hr' while dropping the rest so we can compare\n",
    "taxi_times = taxi_times.drop(['taxi_in', 'taxi_out', 'wheels_off', 'dep_time', 'dep_delay'], axis=1)"
   ]
  },
  {
   "cell_type": "code",
   "execution_count": 42,
   "metadata": {},
   "outputs": [
    {
     "data": {
      "text/html": [
       "<div>\n",
       "<style scoped>\n",
       "    .dataframe tbody tr th:only-of-type {\n",
       "        vertical-align: middle;\n",
       "    }\n",
       "\n",
       "    .dataframe tbody tr th {\n",
       "        vertical-align: top;\n",
       "    }\n",
       "\n",
       "    .dataframe thead th {\n",
       "        text-align: right;\n",
       "    }\n",
       "</style>\n",
       "<table border=\"1\" class=\"dataframe\">\n",
       "  <thead>\n",
       "    <tr style=\"text-align: right;\">\n",
       "      <th></th>\n",
       "      <th>taxi_total_time</th>\n",
       "      <th>dep_hr</th>\n",
       "    </tr>\n",
       "  </thead>\n",
       "  <tbody>\n",
       "    <tr>\n",
       "      <th>0</th>\n",
       "      <td>23.0</td>\n",
       "      <td>15.0</td>\n",
       "    </tr>\n",
       "    <tr>\n",
       "      <th>1</th>\n",
       "      <td>14.0</td>\n",
       "      <td>11.0</td>\n",
       "    </tr>\n",
       "    <tr>\n",
       "      <th>2</th>\n",
       "      <td>22.0</td>\n",
       "      <td>18.0</td>\n",
       "    </tr>\n",
       "    <tr>\n",
       "      <th>3</th>\n",
       "      <td>14.0</td>\n",
       "      <td>19.0</td>\n",
       "    </tr>\n",
       "    <tr>\n",
       "      <th>4</th>\n",
       "      <td>27.0</td>\n",
       "      <td>18.0</td>\n",
       "    </tr>\n",
       "  </tbody>\n",
       "</table>\n",
       "</div>"
      ],
      "text/plain": [
       "   taxi_total_time  dep_hr\n",
       "0             23.0    15.0\n",
       "1             14.0    11.0\n",
       "2             22.0    18.0\n",
       "3             14.0    19.0\n",
       "4             27.0    18.0"
      ]
     },
     "execution_count": 42,
     "metadata": {},
     "output_type": "execute_result"
    }
   ],
   "source": [
    "taxi_times.head()"
   ]
  },
  {
   "cell_type": "code",
   "execution_count": 43,
   "metadata": {},
   "outputs": [
    {
     "data": {
      "text/html": [
       "<div>\n",
       "<style scoped>\n",
       "    .dataframe tbody tr th:only-of-type {\n",
       "        vertical-align: middle;\n",
       "    }\n",
       "\n",
       "    .dataframe tbody tr th {\n",
       "        vertical-align: top;\n",
       "    }\n",
       "\n",
       "    .dataframe thead th {\n",
       "        text-align: right;\n",
       "    }\n",
       "</style>\n",
       "<table border=\"1\" class=\"dataframe\">\n",
       "  <thead>\n",
       "    <tr style=\"text-align: right;\">\n",
       "      <th></th>\n",
       "      <th>taxi_total_time</th>\n",
       "    </tr>\n",
       "    <tr>\n",
       "      <th>dep_hr</th>\n",
       "      <th></th>\n",
       "    </tr>\n",
       "  </thead>\n",
       "  <tbody>\n",
       "    <tr>\n",
       "      <th>1.0</th>\n",
       "      <td>24.280000</td>\n",
       "    </tr>\n",
       "    <tr>\n",
       "      <th>2.0</th>\n",
       "      <td>22.693333</td>\n",
       "    </tr>\n",
       "    <tr>\n",
       "      <th>3.0</th>\n",
       "      <td>20.395349</td>\n",
       "    </tr>\n",
       "    <tr>\n",
       "      <th>4.0</th>\n",
       "      <td>22.463504</td>\n",
       "    </tr>\n",
       "    <tr>\n",
       "      <th>5.0</th>\n",
       "      <td>24.832910</td>\n",
       "    </tr>\n",
       "    <tr>\n",
       "      <th>6.0</th>\n",
       "      <td>25.228321</td>\n",
       "    </tr>\n",
       "    <tr>\n",
       "      <th>7.0</th>\n",
       "      <td>25.877655</td>\n",
       "    </tr>\n",
       "    <tr>\n",
       "      <th>8.0</th>\n",
       "      <td>26.892557</td>\n",
       "    </tr>\n",
       "    <tr>\n",
       "      <th>9.0</th>\n",
       "      <td>25.514386</td>\n",
       "    </tr>\n",
       "    <tr>\n",
       "      <th>10.0</th>\n",
       "      <td>25.173469</td>\n",
       "    </tr>\n",
       "    <tr>\n",
       "      <th>11.0</th>\n",
       "      <td>24.708142</td>\n",
       "    </tr>\n",
       "    <tr>\n",
       "      <th>12.0</th>\n",
       "      <td>24.696890</td>\n",
       "    </tr>\n",
       "    <tr>\n",
       "      <th>13.0</th>\n",
       "      <td>24.186633</td>\n",
       "    </tr>\n",
       "    <tr>\n",
       "      <th>14.0</th>\n",
       "      <td>24.408851</td>\n",
       "    </tr>\n",
       "    <tr>\n",
       "      <th>15.0</th>\n",
       "      <td>25.354441</td>\n",
       "    </tr>\n",
       "    <tr>\n",
       "      <th>16.0</th>\n",
       "      <td>25.001819</td>\n",
       "    </tr>\n",
       "    <tr>\n",
       "      <th>17.0</th>\n",
       "      <td>26.043569</td>\n",
       "    </tr>\n",
       "    <tr>\n",
       "      <th>18.0</th>\n",
       "      <td>26.611559</td>\n",
       "    </tr>\n",
       "    <tr>\n",
       "      <th>19.0</th>\n",
       "      <td>24.955210</td>\n",
       "    </tr>\n",
       "    <tr>\n",
       "      <th>20.0</th>\n",
       "      <td>24.885466</td>\n",
       "    </tr>\n",
       "    <tr>\n",
       "      <th>21.0</th>\n",
       "      <td>24.266546</td>\n",
       "    </tr>\n",
       "    <tr>\n",
       "      <th>22.0</th>\n",
       "      <td>23.440440</td>\n",
       "    </tr>\n",
       "    <tr>\n",
       "      <th>23.0</th>\n",
       "      <td>23.183626</td>\n",
       "    </tr>\n",
       "  </tbody>\n",
       "</table>\n",
       "</div>"
      ],
      "text/plain": [
       "        taxi_total_time\n",
       "dep_hr                 \n",
       "1.0           24.280000\n",
       "2.0           22.693333\n",
       "3.0           20.395349\n",
       "4.0           22.463504\n",
       "5.0           24.832910\n",
       "6.0           25.228321\n",
       "7.0           25.877655\n",
       "8.0           26.892557\n",
       "9.0           25.514386\n",
       "10.0          25.173469\n",
       "11.0          24.708142\n",
       "12.0          24.696890\n",
       "13.0          24.186633\n",
       "14.0          24.408851\n",
       "15.0          25.354441\n",
       "16.0          25.001819\n",
       "17.0          26.043569\n",
       "18.0          26.611559\n",
       "19.0          24.955210\n",
       "20.0          24.885466\n",
       "21.0          24.266546\n",
       "22.0          23.440440\n",
       "23.0          23.183626"
      ]
     },
     "execution_count": 43,
     "metadata": {},
     "output_type": "execute_result"
    }
   ],
   "source": [
    "# calculate mean/avg of 'taxi_total_times' by the hours in a day\n",
    "taxi_times_mean = taxi_times.groupby('dep_hr').mean()\n",
    "taxi_times_mean"
   ]
  },
  {
   "cell_type": "code",
   "execution_count": 44,
   "metadata": {},
   "outputs": [
    {
     "data": {
      "image/png": "[encoded data removed]",
      "text/plain": [
       "<Figure size 640x480 with 1 Axes>"
      ]
     },
     "metadata": {},
     "output_type": "display_data"
    }
   ],
   "source": [
    "# create line plot to show relationship\n",
    "ax = taxi_times_mean.plot(y=['taxi_total_time'], marker='o')\n",
    "\n",
    "# set y-axis limits\n",
    "ax.set_ylim(bottom=0, top=60)\n",
    "\n",
    "# labels and title\n",
    "plt.xlabel('Time (hr)')\n",
    "plt.ylabel('Average Time (minutes)')\n",
    "plt.title('Average Taxi Time Through the Day')\n",
    "plt.legend()\n",
    "\n",
    "# show the plot\n",
    "plt.show()"
   ]
  },
  {
   "cell_type": "markdown",
   "metadata": {},
   "source": [
    "This graph shows us that the taxi times stay relatively constant throughout the day between 20-30 minutes."
   ]
  },
  {
   "cell_type": "markdown",
   "metadata": {},
   "source": [
    "## **Task 5**: What is the average percentage of delays that is already created before departure? (aka are arrival delays caused by departure delays?) Are airlines able to lower the delay during the flights?"
   ]
  },
  {
   "cell_type": "code",
   "execution_count": 45,
   "metadata": {},
   "outputs": [
    {
     "data": {
      "text/plain": [
       "Index(['fl_date', 'unique_carrier', 'branded_code_share', 'mkt_carrier_fl_num',\n",
       "       'op_unique_carrier', 'op_carrier_fl_num', 'origin', 'origin_city_name',\n",
       "       'dest', 'dest_city_name', 'crs_dep_time', 'dep_time', 'dep_delay',\n",
       "       'taxi_out', 'wheels_off', 'wheels_on', 'taxi_in', 'crs_arr_time',\n",
       "       'arr_time', 'arr_delay', 'cancelled', 'cancellation_code', 'diverted',\n",
       "       'dup', 'crs_elapsed_time', 'actual_elapsed_time', 'air_time',\n",
       "       'distance', 'carrier_delay', 'weather_delay', 'nas_delay',\n",
       "       'security_delay', 'late_aircraft_delay', 'route_id', 'month', 'year',\n",
       "       'carrier_group_new', 'sdomt_gallons', 'satl_gallons', 'spac_gallons',\n",
       "       'slat_gallons', 'sint_gallons', 'ts_gallons', 'tdomt_gallons',\n",
       "       'tint_gallons', 'total_gallons', 'sdomt_cost', 'satl_cost', 'spac_cost',\n",
       "       'slat_cost', 'sint_cost', 'ts_cost', 'tdomt_cost', 'tint_cost',\n",
       "       'total_cost'],\n",
       "      dtype='object')"
      ]
     },
     "execution_count": 45,
     "metadata": {},
     "output_type": "execute_result"
    }
   ],
   "source": [
    "train_flights_df.columns"
   ]
  },
  {
   "cell_type": "code",
   "execution_count": 46,
   "metadata": {},
   "outputs": [
    {
     "name": "stdout",
     "output_type": "stream",
     "text": [
      "Total number of delayed flights: 27537\n"
     ]
    }
   ],
   "source": [
    "# percentage of arrival delays caused by departure delay\n",
    "# calculate total arrival delayed flights\n",
    "total_delayed_flights = len(train_flights_df[train_flights_df['arr_delay'] > 0])\n",
    "print('Total number of delayed flights:', total_delayed_flights)"
   ]
  },
  {
   "cell_type": "code",
   "execution_count": 47,
   "metadata": {},
   "outputs": [
    {
     "name": "stdout",
     "output_type": "stream",
     "text": [
      "Total number of departure delayed flights: 19620\n"
     ]
    }
   ],
   "source": [
    "# calculate departure delayed flights where arrival delay is also present\n",
    "departure_delayed_flights = len(train_flights_df[(train_flights_df['dep_delay'] > 0) & (train_flights_df['arr_delay'] > 0)])\n",
    "print('Total number of departure delayed flights:', departure_delayed_flights)"
   ]
  },
  {
   "cell_type": "code",
   "execution_count": 48,
   "metadata": {},
   "outputs": [
    {
     "name": "stdout",
     "output_type": "stream",
     "text": [
      "The average percentage of delays caused by departure delay is 71.25%\n"
     ]
    }
   ],
   "source": [
    "# calculate percentage of delays caused by departure delays\n",
    "percentage_departure_delay = departure_delayed_flights / total_delayed_flights * 100\n",
    "print(f\"The average percentage of delays caused by departure delay is {percentage_departure_delay:.2f}%\")"
   ]
  },
  {
   "cell_type": "code",
   "execution_count": 49,
   "metadata": {},
   "outputs": [
    {
     "name": "stdout",
     "output_type": "stream",
     "text": [
      "The average delay time during the flight is -5.01 minutes\n"
     ]
    }
   ],
   "source": [
    "# calculate the average delay time during the flight\n",
    "average_in_flight_delay = train_flights_df['arr_delay'].mean() - train_flights_df['dep_delay'].mean()\n",
    "print(f\"The average delay time during the flight is {average_in_flight_delay:.2f} minutes\")"
   ]
  },
  {
   "cell_type": "markdown",
   "metadata": {},
   "source": [
    "#### **Task 6**: How many states cover 50% of US air traffic? "
   ]
  },
  {
   "cell_type": "code",
   "execution_count": null,
   "metadata": {},
   "outputs": [],
   "source": []
  },
  {
   "cell_type": "code",
   "execution_count": null,
   "metadata": {},
   "outputs": [],
   "source": []
  },
  {
   "cell_type": "markdown",
   "metadata": {},
   "source": [
    "#### **Task 7**: Test the hypothesis whether planes fly faster when there is the departure delay? "
   ]
  },
  {
   "cell_type": "code",
   "execution_count": 50,
   "metadata": {},
   "outputs": [
    {
     "data": {
      "text/plain": [
       "Index(['fl_date', 'unique_carrier', 'branded_code_share', 'mkt_carrier_fl_num',\n",
       "       'op_unique_carrier', 'op_carrier_fl_num', 'origin', 'origin_city_name',\n",
       "       'dest', 'dest_city_name', 'crs_dep_time', 'dep_time', 'dep_delay',\n",
       "       'taxi_out', 'wheels_off', 'wheels_on', 'taxi_in', 'crs_arr_time',\n",
       "       'arr_time', 'arr_delay', 'cancelled', 'cancellation_code', 'diverted',\n",
       "       'dup', 'crs_elapsed_time', 'actual_elapsed_time', 'air_time',\n",
       "       'distance', 'carrier_delay', 'weather_delay', 'nas_delay',\n",
       "       'security_delay', 'late_aircraft_delay', 'route_id', 'month', 'year',\n",
       "       'carrier_group_new', 'sdomt_gallons', 'satl_gallons', 'spac_gallons',\n",
       "       'slat_gallons', 'sint_gallons', 'ts_gallons', 'tdomt_gallons',\n",
       "       'tint_gallons', 'total_gallons', 'sdomt_cost', 'satl_cost', 'spac_cost',\n",
       "       'slat_cost', 'sint_cost', 'ts_cost', 'tdomt_cost', 'tint_cost',\n",
       "       'total_cost'],\n",
       "      dtype='object')"
      ]
     },
     "execution_count": 50,
     "metadata": {},
     "output_type": "execute_result"
    }
   ],
   "source": [
    "train_flights_df.columns"
   ]
  },
  {
   "cell_type": "code",
   "execution_count": 51,
   "metadata": {},
   "outputs": [],
   "source": [
    "# calculate speed (which is in miles per hour)\n",
    "train_flights_df['speed'] = train_flights_df['distance'] / (train_flights_df['actual_elapsed_time'] / 60) # divide by 60 to get hours from minutes"
   ]
  },
  {
   "cell_type": "code",
   "execution_count": 52,
   "metadata": {},
   "outputs": [],
   "source": [
    "# fit linear regression model\n",
    "X = sm.add_constant(train_flights_df['dep_delay'])\n",
    "model = sm.OLS(train_flights_df['speed'], X)\n",
    "results = model.fit()"
   ]
  },
  {
   "cell_type": "code",
   "execution_count": 53,
   "metadata": {},
   "outputs": [
    {
     "name": "stdout",
     "output_type": "stream",
     "text": [
      "                            OLS Regression Results                            \n",
      "==============================================================================\n",
      "Dep. Variable:                  speed   R-squared:                       0.000\n",
      "Model:                            OLS   Adj. R-squared:                 -0.000\n",
      "Method:                 Least Squares   F-statistic:                    0.1788\n",
      "Date:                Fri, 24 Mar 2023   Prob (F-statistic):              0.672\n",
      "Time:                        13:07:58   Log-Likelihood:            -4.6575e+05\n",
      "No. Observations:               78404   AIC:                         9.315e+05\n",
      "Df Residuals:                   78402   BIC:                         9.315e+05\n",
      "Df Model:                           1                                         \n",
      "Covariance Type:            nonrobust                                         \n",
      "==============================================================================\n",
      "                 coef    std err          t      P>|t|      [0.025      0.975]\n",
      "------------------------------------------------------------------------------\n",
      "const        314.7041      0.336    936.187      0.000     314.045     315.363\n",
      "dep_delay     -0.0028      0.007     -0.423      0.672      -0.016       0.010\n",
      "==============================================================================\n",
      "Omnibus:                     2112.521   Durbin-Watson:                   2.004\n",
      "Prob(Omnibus):                  0.000   Jarque-Bera (JB):             1680.498\n",
      "Skew:                          -0.279   Prob(JB):                         0.00\n",
      "Kurtosis:                       2.550   Cond. No.                         51.1\n",
      "==============================================================================\n",
      "\n",
      "Notes:\n",
      "[1] Standard Errors assume that the covariance matrix of the errors is correctly specified.\n"
     ]
    }
   ],
   "source": [
    "# print regression results\n",
    "print(results.summary())"
   ]
  },
  {
   "cell_type": "markdown",
   "metadata": {},
   "source": [
    "Since the p-value is 0.672 we accept the null-hypothesis."
   ]
  },
  {
   "cell_type": "code",
   "execution_count": 54,
   "metadata": {},
   "outputs": [
    {
     "data": {
      "image/png": "[encoded data removed]",
      "text/plain": [
       "<Figure size 640x480 with 1 Axes>"
      ]
     },
     "metadata": {},
     "output_type": "display_data"
    }
   ],
   "source": [
    "# create a scatter plot of departure delay vs. speed\n",
    "sns.scatterplot(x='dep_delay', y='speed', data=train_flights_df)\n",
    "\n",
    "# fit a linear regression line to the data\n",
    "sns.regplot(x='dep_delay', y='speed', data=train_flights_df)\n",
    "\n",
    "# set plot title and axis labels\n",
    "plt.title('Departure Delay vs. Flight Speed')\n",
    "plt.xlabel('Departure Delay (minutes)')\n",
    "plt.ylabel('Flight Speed (mph)')\n",
    "\n",
    "# display the plot\n",
    "plt.show()"
   ]
  },
  {
   "cell_type": "markdown",
   "metadata": {},
   "source": [
    "Even with this scatter plot we can see that planes very rarely fly faster when there is a delay."
   ]
  },
  {
   "cell_type": "markdown",
   "metadata": {},
   "source": [
    "## **Task 8**: When (which hour) do most 'LONG', 'SHORT', 'MEDIUM' haul flights take off?"
   ]
  },
  {
   "cell_type": "code",
   "execution_count": null,
   "metadata": {},
   "outputs": [],
   "source": []
  },
  {
   "cell_type": "code",
   "execution_count": null,
   "metadata": {},
   "outputs": [],
   "source": []
  },
  {
   "cell_type": "markdown",
   "metadata": {},
   "source": [
    "## **Task 9**: Find the top 10 the bussiest airports. Does the biggest number of flights mean that the biggest number of passengers went through the particular airport? How much traffic do these 10 airports cover?"
   ]
  },
  {
   "cell_type": "code",
   "execution_count": null,
   "metadata": {},
   "outputs": [],
   "source": []
  },
  {
   "cell_type": "code",
   "execution_count": null,
   "metadata": {},
   "outputs": [],
   "source": []
  },
  {
   "cell_type": "markdown",
   "metadata": {},
   "source": [
    "## **Task 10**: Do bigger delays lead to bigger fuel comsumption per passenger? \n",
    "We need to do four things to answer this as accurate as possible:\n",
    "- Find out average monthly delay per air carrier (monthly delay is sum of all delays in 1 month)\n",
    "- Find out distance covered monthly by different air carriers\n",
    "- Find out number of passengers that were carried by different air carriers\n",
    "- Find out total fuel comsumption per air carrier.\n",
    "\n",
    "Use this information to get the average fuel comsumption per passenger per km. Is this higher for the airlines with bigger average delays?"
   ]
  },
  {
   "cell_type": "code",
   "execution_count": null,
   "metadata": {},
   "outputs": [],
   "source": []
  },
  {
   "cell_type": "code",
   "execution_count": null,
   "metadata": {},
   "outputs": [],
   "source": []
  }
 ],
 "metadata": {
  "kernelspec": {
   "display_name": "Python 3 (ipykernel)",
   "language": "python",
   "name": "python3"
  },
  "language_info": {
   "codemirror_mode": {
    "name": "ipython",
    "version": 3
   },
   "file_extension": ".py",
   "mimetype": "text/x-python",
   "name": "python",
   "nbconvert_exporter": "python",
   "pygments_lexer": "ipython3",
   "version": "3.9.13"
  },
  "toc": {
   "base_numbering": 1,
   "nav_menu": {},
   "number_sections": true,
   "sideBar": true,
   "skip_h1_title": false,
   "title_cell": "Table of Contents",
   "title_sidebar": "Contents",
   "toc_cell": false,
   "toc_position": {},
   "toc_section_display": true,
   "toc_window_display": false
  },
  "varInspector": {
   "cols": {
    "lenName": 16,
    "lenType": 16,
    "lenVar": 40
   },
   "kernels_config": {
    "python": {
     "delete_cmd_postfix": "",
     "delete_cmd_prefix": "del ",
     "library": "var_list.py",
     "varRefreshCmd": "print(var_dic_list())"
    },
    "r": {
     "delete_cmd_postfix": ") ",
     "delete_cmd_prefix": "rm(",
     "library": "var_list.r",
     "varRefreshCmd": "cat(var_dic_list()) "
    }
   },
   "types_to_exclude": [
    "module",
    "function",
    "builtin_function_or_method",
    "instance",
    "_Feature"
   ],
   "window_display": false
  }
 },
 "nbformat": 4,
 "nbformat_minor": 4
}
