{
 "cells": [
  {
   "cell_type": "markdown",
   "metadata": {},
   "source": [
    "# Machine Learning\n",
    "\n",
    "In this file, instructions how to approach the challenge can be found."
   ]
  },
  {
   "cell_type": "markdown",
   "metadata": {},
   "source": [
    "We are going to work on different types of Machine Learning problems:\n",
    "\n",
    "- **Regression Problem**: The goal is to predict delay of flights.\n",
    "- **(Stretch) Multiclass Classification**: If the plane was delayed, we will predict what type of delay it is (will be).\n",
    "- **(Stretch) Binary Classification**: The goal is to predict if the flight will be cancelled."
   ]
  },
  {
   "cell_type": "code",
   "execution_count": 1,
   "metadata": {
    "tags": []
   },
   "outputs": [],
   "source": [
    "# import libraries\n",
    "import numpy as np\n",
    "import pandas as pd\n",
    "from scipy.stats import zscore\n",
    "import matplotlib.pyplot as plt\n",
    "import seaborn as sns\n",
    "from scipy.stats import shapiro\n",
    "import statsmodels.api as sm\n",
    "from sklearn.pipeline import make_pipeline\n",
    "from sklearn.preprocessing import StandardScaler\n",
    "from sklearn.linear_model import LinearRegression\n",
    "from sklearn.metrics import mean_absolute_error, mean_squared_error, r2_score\n",
    "from sklearn.linear_model import RidgeCV\n",
    "from sklearn.tree import DecisionTreeRegressor\n",
    "from sklearn.ensemble import RandomForestRegressor"
   ]
  },
  {
   "cell_type": "markdown",
   "metadata": {},
   "source": [
    "## Main Task: Regression Problem"
   ]
  },
  {
   "cell_type": "markdown",
   "metadata": {},
   "source": [
    "The target variable is **ARR_DELAY**. We need to be careful which columns to use and which don't. For example, DEP_DELAY is going to be the perfect predictor, but we can't use it because in real-life scenario, we want to predict the delay before the flight takes of --> We can use average delay from earlier days but not the one from the actual flight we predict.  \n",
    "\n",
    "For example, variables **CARRIER_DELAY, WEATHER_DELAY, NAS_DELAY, SECURITY_DELAY, LATE_AIRCRAFT_DELAY** shouldn't be used directly as predictors as well. However, we can create various transformations from earlier values.\n",
    "\n",
    "We will be evaluating your models by predicting the ARR_DELAY for all flights **1 week in advance**."
   ]
  },
  {
   "cell_type": "code",
   "execution_count": 2,
   "metadata": {
    "tags": []
   },
   "outputs": [],
   "source": [
    "pd.set_option('display.max_columns', None)\n",
    "# load Tables\n",
    "all_features = pd.read_csv('data/all_features.csv', parse_dates = ['fl_date'])\n",
    "flights_test = pd.read_csv('data/flights_test.csv', parse_dates = ['fl_date'])"
   ]
  },
  {
   "cell_type": "code",
   "execution_count": 3,
   "metadata": {
    "tags": []
   },
   "outputs": [
    {
     "data": {
      "text/plain": [
       "fl_date                    0\n",
       "mkt_unique_carrier         0\n",
       "branded_code_share         0\n",
       "mkt_carrier_fl_num         0\n",
       "op_unique_carrier          0\n",
       "op_carrier_fl_num          0\n",
       "origin                     0\n",
       "origin_city_name           0\n",
       "dest                       0\n",
       "dest_city_name             0\n",
       "crs_dep_time               0\n",
       "dep_time                   0\n",
       "dep_delay                  0\n",
       "taxi_out                   0\n",
       "wheels_off                 0\n",
       "wheels_on                  0\n",
       "taxi_in                    0\n",
       "crs_arr_time               0\n",
       "arr_time                   0\n",
       "arr_delay                  0\n",
       "cancelled                  0\n",
       "cancellation_code          0\n",
       "diverted                   0\n",
       "dup                        0\n",
       "crs_elapsed_time           0\n",
       "actual_elapsed_time        0\n",
       "air_time                   0\n",
       "distance                   0\n",
       "carrier_delay              0\n",
       "weather_delay              0\n",
       "nas_delay                  0\n",
       "security_delay             0\n",
       "late_aircraft_delay        0\n",
       "route_id                   0\n",
       "month                      0\n",
       "year                       0\n",
       "carrier_group_new      12624\n",
       "sdomt_gallons          12624\n",
       "satl_gallons           12624\n",
       "spac_gallons           12624\n",
       "slat_gallons           12624\n",
       "sint_gallons           12624\n",
       "ts_gallons             12624\n",
       "tdomt_gallons          12624\n",
       "tint_gallons           12624\n",
       "total_gallons          12624\n",
       "sdomt_cost             12624\n",
       "satl_cost              12624\n",
       "spac_cost              12624\n",
       "slat_cost              12624\n",
       "sint_cost              12624\n",
       "ts_cost                12624\n",
       "tdomt_cost             12624\n",
       "tint_cost              12624\n",
       "total_cost             12624\n",
       "dtype: int64"
      ]
     },
     "execution_count": 3,
     "metadata": {},
     "output_type": "execute_result"
    }
   ],
   "source": [
    "all_features.isnull().sum()"
   ]
  },
  {
   "cell_type": "markdown",
   "metadata": {},
   "source": [
    "#### Missing fuel values\n",
    "There are a number of nulls in the fuel data, and this is because the fuel data is not as up to date as the flights data. At least for the months of Oct-Dec 2019 (there may be more months) there is no fuel data."
   ]
  },
  {
   "cell_type": "markdown",
   "metadata": {},
   "source": [
    "### Feature Engineering"
   ]
  },
  {
   "cell_type": "markdown",
   "metadata": {},
   "source": [
    "Feature engineering will play a crucial role in this problems. We have only very little attributes so we need to create some features that will have some predictive power.\n",
    "\n",
    "- weather: we can use some weather API to look for the weather in time of the scheduled departure and scheduled arrival.\n",
    "- statistics (avg, mean, median, std, min, max...): we can take a look at previous delays and compute descriptive statistics\n",
    "- airports encoding: we need to think about what to do with the airports and other categorical variables\n",
    "- time of the day: the delay probably depends on the airport traffic which varies during the day.\n",
    "- airport traffic\n",
    "- unsupervised learning as feature engineering?\n",
    "- **what are the additional options?**: Think about what we could do more to improve the model."
   ]
  },
  {
   "cell_type": "code",
   "execution_count": 4,
   "metadata": {
    "tags": []
   },
   "outputs": [],
   "source": [
    "all_features['day'] = all_features['fl_date'].dt.day\n",
    "model_features = ['year', 'month', 'day', 'origin', 'dest', 'mkt_unique_carrier', 'route_id', 'distance', 'crs_elapsed_time']\n",
    "model_features_df = all_features[model_features]\n",
    "target = all_features['arr_delay']"
   ]
  },
  {
   "cell_type": "code",
   "execution_count": 5,
   "metadata": {
    "tags": []
   },
   "outputs": [],
   "source": [
    "categorical = ['year', 'month', 'day', 'origin', 'dest', 'route_id', 'mkt_unique_carrier']\n",
    "numerical = ['distance', 'crs_elapsed_time']\n",
    "\n",
    "scaler = StandardScaler()\n",
    "scaler.fit(model_features_df[numerical])\n",
    "\n",
    "def feature_engineer(df, categorical, numerical):\n",
    "    df_encoded = pd.get_dummies(df, columns = categorical)\n",
    "    df_engineered = scaler.transform(df_encoded[numerical])\n",
    "    return df_engineered\n",
    "\n",
    "model_features_engineered = feature_engineer(model_features_df, categorical, numerical)"
   ]
  },
  {
   "cell_type": "markdown",
   "metadata": {},
   "source": [
    "### Feature Selection / Dimensionality Reduction"
   ]
  },
  {
   "cell_type": "markdown",
   "metadata": {},
   "source": [
    "We need to apply different selection techniques to find out which one will be the best for our problems.\n",
    "\n",
    "- Original Features vs. PCA conponents?"
   ]
  },
  {
   "cell_type": "code",
   "execution_count": 6,
   "metadata": {
    "tags": []
   },
   "outputs": [
    {
     "data": {
      "text/html": [
       "<div>\n",
       "<style scoped>\n",
       "    .dataframe tbody tr th:only-of-type {\n",
       "        vertical-align: middle;\n",
       "    }\n",
       "\n",
       "    .dataframe tbody tr th {\n",
       "        vertical-align: top;\n",
       "    }\n",
       "\n",
       "    .dataframe thead th {\n",
       "        text-align: right;\n",
       "    }\n",
       "</style>\n",
       "<table border=\"1\" class=\"dataframe\">\n",
       "  <thead>\n",
       "    <tr style=\"text-align: right;\">\n",
       "      <th></th>\n",
       "      <th>year</th>\n",
       "      <th>month</th>\n",
       "      <th>day</th>\n",
       "      <th>origin</th>\n",
       "      <th>dest</th>\n",
       "      <th>mkt_unique_carrier</th>\n",
       "      <th>route_id</th>\n",
       "      <th>distance</th>\n",
       "      <th>crs_elapsed_time</th>\n",
       "    </tr>\n",
       "  </thead>\n",
       "  <tbody>\n",
       "    <tr>\n",
       "      <th>0</th>\n",
       "      <td>2018</td>\n",
       "      <td>6</td>\n",
       "      <td>17</td>\n",
       "      <td>MSN</td>\n",
       "      <td>PHL</td>\n",
       "      <td>F9</td>\n",
       "      <td>MSN-PHL</td>\n",
       "      <td>764.0</td>\n",
       "      <td>127.0</td>\n",
       "    </tr>\n",
       "    <tr>\n",
       "      <th>1</th>\n",
       "      <td>2019</td>\n",
       "      <td>2</td>\n",
       "      <td>6</td>\n",
       "      <td>PIT</td>\n",
       "      <td>EWR</td>\n",
       "      <td>UA</td>\n",
       "      <td>PIT-EWR</td>\n",
       "      <td>319.0</td>\n",
       "      <td>90.0</td>\n",
       "    </tr>\n",
       "  </tbody>\n",
       "</table>\n",
       "</div>"
      ],
      "text/plain": [
       "   year  month  day origin dest mkt_unique_carrier route_id  distance  \\\n",
       "0  2018      6   17    MSN  PHL                 F9  MSN-PHL     764.0   \n",
       "1  2019      2    6    PIT  EWR                 UA  PIT-EWR     319.0   \n",
       "\n",
       "   crs_elapsed_time  \n",
       "0             127.0  \n",
       "1              90.0  "
      ]
     },
     "execution_count": 6,
     "metadata": {},
     "output_type": "execute_result"
    }
   ],
   "source": [
    "model_features_df.head(2)"
   ]
  },
  {
   "cell_type": "code",
   "execution_count": 7,
   "metadata": {
    "tags": []
   },
   "outputs": [
    {
     "name": "stderr",
     "output_type": "stream",
     "text": [
      "/var/folders/k6/sjx5jh0s4ps0mm1lbstv_yrm0000gn/T/ipykernel_62206/3464097401.py:2: FutureWarning: The default value of numeric_only in DataFrame.corr is deprecated. In a future version, it will default to False. Select only valid columns or specify the value of numeric_only to silence this warning.\n",
      "  corr = pd.concat([model_features_df, all_features['arr_delay']], axis = 1).corr()\n"
     ]
    },
    {
     "data": {
      "image/png": "[encoded data removed]",
      "text/plain": [
       "<Figure size 640x480 with 2 Axes>"
      ]
     },
     "metadata": {},
     "output_type": "display_data"
    }
   ],
   "source": [
    "# Visualize correlation\n",
    "corr = pd.concat([model_features_df, all_features['arr_delay']], axis = 1).corr()\n",
    "corr\n",
    "sns.heatmap(corr, cmap='coolwarm')\n",
    "plt.show()"
   ]
  },
  {
   "cell_type": "code",
   "execution_count": null,
   "metadata": {},
   "outputs": [],
   "source": []
  },
  {
   "cell_type": "markdown",
   "metadata": {},
   "source": [
    "### Modeling"
   ]
  },
  {
   "cell_type": "markdown",
   "metadata": {},
   "source": [
    "Use different ML techniques to predict each problem.\n",
    "\n",
    "- linear / logistic / multinomial logistic regression\n",
    "- Naive Bayes\n",
    "- Random Forest\n",
    "- SVM\n",
    "- XGBoost\n",
    "- The ensemble of your own choice"
   ]
  },
  {
   "cell_type": "code",
   "execution_count": 8,
   "metadata": {
    "tags": []
   },
   "outputs": [],
   "source": [
    "# initialize X & y variables, where y = target variable 'arr_delay'\n",
    "X = model_features_engineered\n",
    "y = target"
   ]
  },
  {
   "cell_type": "markdown",
   "metadata": {},
   "source": [
    "### Linear Regression Model"
   ]
  },
  {
   "cell_type": "code",
   "execution_count": 9,
   "metadata": {
    "tags": []
   },
   "outputs": [],
   "source": [
    "# initialize linear regression model:\n",
    "from sklearn.linear_model import LinearRegression\n",
    "from sklearn.model_selection import train_test_split\n",
    "\n",
    "# Split the data into training and test sets\n",
    "X_train, X_test, y_train, y_test = train_test_split(X, y, test_size=0.2, random_state=42)\n",
    "\n",
    "lr = LinearRegression()\n",
    "\n",
    "# fit model to training data\n",
    "lr.fit(X_train, y_train)\n",
    "\n",
    "# make predictions on test data\n",
    "y_pred = lr.predict(X_test)"
   ]
  },
  {
   "cell_type": "code",
   "execution_count": 10,
   "metadata": {
    "tags": []
   },
   "outputs": [
    {
     "name": "stdout",
     "output_type": "stream",
     "text": [
      "Mean Squared Error = 2845.828.\n",
      "Mean Absolute Error = 25.127.\n",
      "R2_score = 0.000.\n",
      "Root Mean Squared Error = 53.346.\n"
     ]
    }
   ],
   "source": [
    "# evaluation of linear regression model with mse, mae, r2, and rmse:\n",
    "from sklearn.metrics import mean_absolute_error, mean_squared_error, r2_score\n",
    "\n",
    "mse = mean_squared_error(y_test, y_pred)\n",
    "print('Mean Squared Error = {:.3f}.'.format(mse))\n",
    "\n",
    "mae = mean_absolute_error(y_test, y_pred)\n",
    "print('Mean Absolute Error = {:.3f}.'.format(mae))\n",
    "\n",
    "r2 = r2_score(y_test, y_pred)\n",
    "print('R2_score = {:.3f}.'.format(r2))\n",
    "\n",
    "rmse = np.sqrt(mse)\n",
    "print('Root Mean Squared Error = {:.3f}.'.format(rmse))"
   ]
  },
  {
   "cell_type": "markdown",
   "metadata": {},
   "source": [
    "R squared is negative indicating the model performs worse that the baseline and cannot exlpain the variability of the target variable. "
   ]
  },
  {
   "cell_type": "code",
   "execution_count": 11,
   "metadata": {
    "tags": []
   },
   "outputs": [
    {
     "data": {
      "image/png": "[encoded data removed]",
      "text/plain": [
       "<Figure size 640x480 with 1 Axes>"
      ]
     },
     "metadata": {},
     "output_type": "display_data"
    }
   ],
   "source": [
    "# Create a scatter plot of predicted vs true values\n",
    "plt.scatter(y_pred, y_test, alpha=0.5)\n",
    "\n",
    "# Add a diagonal line to represent where predicted = true\n",
    "plt.plot([y_test.min(), y_test.max()], [y_test.min(), y_test.max()], 'r--')\n",
    "\n",
    "# Set axis labels and title\n",
    "plt.xlabel('Predicted')\n",
    "plt.ylabel('True')\n",
    "plt.title('Predicted vs True values')\n",
    "\n",
    "# Show the plot\n",
    "plt.show()"
   ]
  },
  {
   "cell_type": "markdown",
   "metadata": {},
   "source": [
    "### Ridge Regression Model"
   ]
  },
  {
   "cell_type": "code",
   "execution_count": 12,
   "metadata": {
    "tags": []
   },
   "outputs": [],
   "source": [
    "# ridge regression uses a penalty term and reduces variance\n",
    "# we will import Ridge cross validation to find the best alpha that wikk fir our model the best:\n",
    "from sklearn.linear_model import RidgeCV\n",
    "\n",
    "ridge = RidgeCV(alphas=[0.1, 0.2, 0.4, 0.6, 0.8, 1.0, 1.5, 2, 2.5, 3, 3.5, 4.0])\n",
    "\n",
    "# fit model to training data\n",
    "ridge.fit(X_train, y_train)\n",
    "\n",
    "# make prediction on test data\n",
    "y_pred_ridge = ridge.predict(X_test)"
   ]
  },
  {
   "cell_type": "code",
   "execution_count": 13,
   "metadata": {
    "tags": []
   },
   "outputs": [
    {
     "name": "stdout",
     "output_type": "stream",
     "text": [
      "Alpha that best fits ridge model: 4.0\n",
      "Mean Squared Error = 2845.828.\n",
      "Mean Absolute Error = 25.127.\n",
      "R2_score = 0.000.\n",
      "Root Mean Squared Error = 53.346.\n"
     ]
    }
   ],
   "source": [
    "# evaluation of ridge regression model with best alpha, mse, mae, r2, and rmse:\n",
    "from sklearn.metrics import mean_absolute_error, mean_squared_error, r2_score\n",
    "\n",
    "print('Alpha that best fits ridge model:', ridge.alpha_)\n",
    "\n",
    "ridge_mse = mean_squared_error(y_test, y_pred_ridge)\n",
    "print('Mean Squared Error = {:.3f}.'.format(ridge_mse))\n",
    "\n",
    "ridge_mae = mean_absolute_error(y_test, y_pred_ridge)\n",
    "print('Mean Absolute Error = {:.3f}.'.format(ridge_mae))\n",
    "\n",
    "ridge_r2 = r2_score(y_test, y_pred_ridge)\n",
    "print('R2_score = {:.3f}.'.format(ridge_r2))\n",
    "\n",
    "ridge_rmse = np.sqrt(ridge_mse)\n",
    "print('Root Mean Squared Error = {:.3f}.'.format(ridge_rmse))"
   ]
  },
  {
   "cell_type": "markdown",
   "metadata": {},
   "source": [
    "marginally better results than linear regression model"
   ]
  },
  {
   "cell_type": "markdown",
   "metadata": {},
   "source": [
    "### Decision Tree Classifier Model"
   ]
  },
  {
   "cell_type": "code",
   "execution_count": 14,
   "metadata": {
    "tags": []
   },
   "outputs": [],
   "source": [
    "# import decision tree regressor:\n",
    "from sklearn.tree import DecisionTreeRegressor\n",
    "\n",
    "tree = DecisionTreeRegressor(random_state=42)\n",
    "\n",
    "# fit model to training data\n",
    "tree.fit(X_train, y_train) \n",
    "\n",
    "# make prediction on test data\n",
    "y_pred_tree = tree.predict(X_test) "
   ]
  },
  {
   "cell_type": "code",
   "execution_count": 15,
   "metadata": {
    "tags": []
   },
   "outputs": [
    {
     "name": "stdout",
     "output_type": "stream",
     "text": [
      "Mean Squared Error = 3847.946.\n",
      "Mean Absolute Error = 30.307.\n",
      "R2_score = -0.352.\n",
      "Root Mean Squared Error = 62.032.\n"
     ]
    }
   ],
   "source": [
    "# evaluation of decision tree model mse, mae, r2, and rmse:\n",
    "from sklearn.metrics import mean_absolute_error, mean_squared_error, r2_score\n",
    "\n",
    "tree_mse = mean_squared_error(y_test, y_pred_tree)\n",
    "print('Mean Squared Error = {:.3f}.'.format(tree_mse))\n",
    "\n",
    "tree_mae = mean_absolute_error(y_test, y_pred_tree)\n",
    "print('Mean Absolute Error = {:.3f}.'.format(tree_mae))\n",
    "\n",
    "tree_r2 = r2_score(y_test, y_pred_tree)\n",
    "print('R2_score = {:.3f}.'.format(tree_r2))\n",
    "\n",
    "tree_rmse = np.sqrt(tree_mse)\n",
    "print('Root Mean Squared Error = {:.3f}.'.format(tree_rmse))"
   ]
  },
  {
   "cell_type": "markdown",
   "metadata": {},
   "source": [
    "this model performs worse than both linear and ridge regression models"
   ]
  },
  {
   "cell_type": "markdown",
   "metadata": {},
   "source": [
    "### Random Forest Model"
   ]
  },
  {
   "cell_type": "code",
   "execution_count": 16,
   "metadata": {
    "tags": []
   },
   "outputs": [],
   "source": [
    "# import random forest regressor:\n",
    "from sklearn.ensemble import RandomForestRegressor\n",
    "\n",
    "forest = RandomForestRegressor(n_estimators=100, random_state=42)  # using 100 estimators took too long please reduce for your machine\n",
    "\n",
    "# fit model to training data\n",
    "forest.fit(X_train, y_train)\n",
    "\n",
    "# make prediction on test data\n",
    "y_pred_forest = forest.predict(X_test)"
   ]
  },
  {
   "cell_type": "code",
   "execution_count": 17,
   "metadata": {
    "tags": []
   },
   "outputs": [
    {
     "name": "stdout",
     "output_type": "stream",
     "text": [
      "Mean Squared Error = 3391.778.\n",
      "Mean Absolute Error = 28.651.\n",
      "R2_score = -0.191.\n",
      "Root Mean Squared Error = 58.239.\n"
     ]
    }
   ],
   "source": [
    "# evaluation of forest model mse, mae, r2, and rmse:\n",
    "from sklearn.metrics import mean_absolute_error, mean_squared_error, r2_score\n",
    "\n",
    "forest_mse = mean_squared_error(y_test, y_pred_forest)\n",
    "print('Mean Squared Error = {:.3f}.'.format(forest_mse))\n",
    "\n",
    "forest_mae = mean_absolute_error(y_test, y_pred_forest)\n",
    "print('Mean Absolute Error = {:.3f}.'.format(forest_mae))\n",
    "\n",
    "forest_r2 = r2_score(y_test, y_pred_forest)\n",
    "print('R2_score = {:.3f}.'.format(forest_r2))\n",
    "\n",
    "forest_rmse = np.sqrt(forest_mse)\n",
    "print('Root Mean Squared Error = {:.3f}.'.format(forest_rmse))"
   ]
  },
  {
   "cell_type": "markdown",
   "metadata": {},
   "source": [
    "the random forest model is better than the tree model but still does not outperform the ridge regresssion model. \n",
    "overall all the models are not doing a great job at prediciting the target variable"
   ]
  },
  {
   "cell_type": "markdown",
   "metadata": {},
   "source": [
    "### XGBoost"
   ]
  },
  {
   "cell_type": "code",
   "execution_count": 19,
   "metadata": {
    "tags": []
   },
   "outputs": [],
   "source": [
    "# import XGBoost:\n",
    "import xgboost as xgb\n",
    "\n",
    "# convert data to DMatrix format\n",
    "dtrain = xgb.DMatrix(X_train, label=y_train)\n",
    "dtest = xgb.DMatrix(X_test, label=y_test)\n",
    "\n",
    "# set hyperparameters\n",
    "params = {\n",
    "    'max_depth': 3,\n",
    "    'eta': 0.1,\n",
    "    'objective': 'reg:squarederror'\n",
    "}\n",
    "\n",
    "# train the model\n",
    "num_rounds = 100\n",
    "xgb_model = xgb.train(params, dtrain, num_rounds)\n",
    "\n",
    "# make prediction on test data\n",
    "y_pred_xgboost = xgb_model.predict(dtest)"
   ]
  },
  {
   "cell_type": "code",
   "execution_count": 20,
   "metadata": {
    "tags": []
   },
   "outputs": [
    {
     "name": "stdout",
     "output_type": "stream",
     "text": [
      "Mean Squared Error = 2843.947.\n",
      "Mean Absolute Error = 25.112.\n",
      "R2_score = 0.001.\n",
      "Root Mean Squared Error = 53.329.\n"
     ]
    }
   ],
   "source": [
    "# evaluation of XGBoost model mse, mae, r2, and rmse:\n",
    "from sklearn.metrics import mean_absolute_error, mean_squared_error, r2_score\n",
    "\n",
    "xgboost_mse = mean_squared_error(y_test, y_pred_xgboost)\n",
    "print('Mean Squared Error = {:.3f}.'.format(xgboost_mse))\n",
    "\n",
    "xgboost_mae = mean_absolute_error(y_test, y_pred_xgboost)\n",
    "print('Mean Absolute Error = {:.3f}.'.format(xgboost_mae))\n",
    "\n",
    "xgboost_r2 = r2_score(y_test, y_pred_xgboost)\n",
    "print('R2_score = {:.3f}.'.format(xgboost_r2))\n",
    "\n",
    "xgboost_rmse = np.sqrt(xgboost_mse)\n",
    "print('Root Mean Squared Error = {:.3f}.'.format(xgboost_rmse))"
   ]
  },
  {
   "cell_type": "markdown",
   "metadata": {},
   "source": [
    "the XGBoost model still does not provide us with a strong model based on the evaluation metrics to predict our target variable.  However, if we have to pick one it would have to be the Ridge Regression Model."
   ]
  },
  {
   "cell_type": "markdown",
   "metadata": {},
   "source": [
    "### Evaluation"
   ]
  },
  {
   "cell_type": "markdown",
   "metadata": {},
   "source": [
    "You have data from 2018 and 2019 to develop models. Use different evaluation metrics for each problem and compare the performance of different models.\n",
    "\n",
    "You are required to predict delays on **out of sample** data from **first 7 days (1st-7th) of January 2020** and to share the file with LighthouseLabs. Sample submission can be found in the file **_sample_submission.csv_**"
   ]
  },
  {
   "cell_type": "code",
   "execution_count": 21,
   "metadata": {
    "tags": []
   },
   "outputs": [
    {
     "data": {
      "text/html": [
       "<div>\n",
       "<style scoped>\n",
       "    .dataframe tbody tr th:only-of-type {\n",
       "        vertical-align: middle;\n",
       "    }\n",
       "\n",
       "    .dataframe tbody tr th {\n",
       "        vertical-align: top;\n",
       "    }\n",
       "\n",
       "    .dataframe thead th {\n",
       "        text-align: right;\n",
       "    }\n",
       "</style>\n",
       "<table border=\"1\" class=\"dataframe\">\n",
       "  <thead>\n",
       "    <tr style=\"text-align: right;\">\n",
       "      <th></th>\n",
       "      <th>0</th>\n",
       "    </tr>\n",
       "  </thead>\n",
       "  <tbody>\n",
       "    <tr>\n",
       "      <th>0</th>\n",
       "      <td>6.439467</td>\n",
       "    </tr>\n",
       "    <tr>\n",
       "      <th>1</th>\n",
       "      <td>5.911184</td>\n",
       "    </tr>\n",
       "    <tr>\n",
       "      <th>2</th>\n",
       "      <td>6.510055</td>\n",
       "    </tr>\n",
       "    <tr>\n",
       "      <th>3</th>\n",
       "      <td>6.958231</td>\n",
       "    </tr>\n",
       "    <tr>\n",
       "      <th>4</th>\n",
       "      <td>6.187362</td>\n",
       "    </tr>\n",
       "  </tbody>\n",
       "</table>\n",
       "</div>"
      ],
      "text/plain": [
       "          0\n",
       "0  6.439467\n",
       "1  5.911184\n",
       "2  6.510055\n",
       "3  6.958231\n",
       "4  6.187362"
      ]
     },
     "execution_count": 21,
     "metadata": {},
     "output_type": "execute_result"
    }
   ],
   "source": [
    "# create dataframe table for chosen model of ridge regression\n",
    "y_pred_ridge = pd.DataFrame(y_pred_ridge)\n",
    "y_pred_ridge.head()"
   ]
  },
  {
   "cell_type": "code",
   "execution_count": 22,
   "metadata": {
    "tags": []
   },
   "outputs": [],
   "source": [
    "# create column name that replaces '0' with 'Flight_Delays_Predictions'"
   ]
  },
  {
   "cell_type": "code",
   "execution_count": 23,
   "metadata": {
    "tags": []
   },
   "outputs": [
    {
     "data": {
      "text/html": [
       "<div>\n",
       "<style scoped>\n",
       "    .dataframe tbody tr th:only-of-type {\n",
       "        vertical-align: middle;\n",
       "    }\n",
       "\n",
       "    .dataframe tbody tr th {\n",
       "        vertical-align: top;\n",
       "    }\n",
       "\n",
       "    .dataframe thead th {\n",
       "        text-align: right;\n",
       "    }\n",
       "</style>\n",
       "<table border=\"1\" class=\"dataframe\">\n",
       "  <thead>\n",
       "    <tr style=\"text-align: right;\">\n",
       "      <th></th>\n",
       "      <th>flight_delays_predictions</th>\n",
       "    </tr>\n",
       "  </thead>\n",
       "  <tbody>\n",
       "    <tr>\n",
       "      <th>0</th>\n",
       "      <td>6.439467</td>\n",
       "    </tr>\n",
       "    <tr>\n",
       "      <th>1</th>\n",
       "      <td>5.911184</td>\n",
       "    </tr>\n",
       "    <tr>\n",
       "      <th>2</th>\n",
       "      <td>6.510055</td>\n",
       "    </tr>\n",
       "    <tr>\n",
       "      <th>3</th>\n",
       "      <td>6.958231</td>\n",
       "    </tr>\n",
       "    <tr>\n",
       "      <th>4</th>\n",
       "      <td>6.187362</td>\n",
       "    </tr>\n",
       "  </tbody>\n",
       "</table>\n",
       "</div>"
      ],
      "text/plain": [
       "   flight_delays_predictions\n",
       "0                   6.439467\n",
       "1                   5.911184\n",
       "2                   6.510055\n",
       "3                   6.958231\n",
       "4                   6.187362"
      ]
     },
     "execution_count": 23,
     "metadata": {},
     "output_type": "execute_result"
    }
   ],
   "source": [
    "y_pred_ridge = y_pred_ridge.rename(columns={0: 'flight_delays_predictions'})\n",
    "y_pred_ridge.head()"
   ]
  },
  {
   "cell_type": "code",
   "execution_count": 25,
   "metadata": {
    "tags": []
   },
   "outputs": [
    {
     "data": {
      "text/html": [
       "<div>\n",
       "<style scoped>\n",
       "    .dataframe tbody tr th:only-of-type {\n",
       "        vertical-align: middle;\n",
       "    }\n",
       "\n",
       "    .dataframe tbody tr th {\n",
       "        vertical-align: top;\n",
       "    }\n",
       "\n",
       "    .dataframe thead th {\n",
       "        text-align: right;\n",
       "    }\n",
       "</style>\n",
       "<table border=\"1\" class=\"dataframe\">\n",
       "  <thead>\n",
       "    <tr style=\"text-align: right;\">\n",
       "      <th></th>\n",
       "      <th>fl_date</th>\n",
       "      <th>mkt_unique_carrier</th>\n",
       "      <th>mkt_carrier_fl_num</th>\n",
       "      <th>origin</th>\n",
       "      <th>dest</th>\n",
       "      <th>flight_delays_predictions</th>\n",
       "    </tr>\n",
       "  </thead>\n",
       "  <tbody>\n",
       "    <tr>\n",
       "      <th>0</th>\n",
       "      <td>2020-01-01</td>\n",
       "      <td>WN</td>\n",
       "      <td>5888</td>\n",
       "      <td>ONT</td>\n",
       "      <td>SFO</td>\n",
       "      <td>6.439467</td>\n",
       "    </tr>\n",
       "    <tr>\n",
       "      <th>1</th>\n",
       "      <td>2020-01-01</td>\n",
       "      <td>WN</td>\n",
       "      <td>6276</td>\n",
       "      <td>ONT</td>\n",
       "      <td>SFO</td>\n",
       "      <td>5.911184</td>\n",
       "    </tr>\n",
       "    <tr>\n",
       "      <th>2</th>\n",
       "      <td>2020-01-01</td>\n",
       "      <td>WN</td>\n",
       "      <td>4598</td>\n",
       "      <td>ONT</td>\n",
       "      <td>SJC</td>\n",
       "      <td>6.510055</td>\n",
       "    </tr>\n",
       "    <tr>\n",
       "      <th>3</th>\n",
       "      <td>2020-01-01</td>\n",
       "      <td>WN</td>\n",
       "      <td>4761</td>\n",
       "      <td>ONT</td>\n",
       "      <td>SJC</td>\n",
       "      <td>6.958231</td>\n",
       "    </tr>\n",
       "    <tr>\n",
       "      <th>4</th>\n",
       "      <td>2020-01-01</td>\n",
       "      <td>WN</td>\n",
       "      <td>5162</td>\n",
       "      <td>ONT</td>\n",
       "      <td>SJC</td>\n",
       "      <td>6.187362</td>\n",
       "    </tr>\n",
       "  </tbody>\n",
       "</table>\n",
       "</div>"
      ],
      "text/plain": [
       "     fl_date mkt_unique_carrier  mkt_carrier_fl_num origin dest  \\\n",
       "0 2020-01-01                 WN                5888    ONT  SFO   \n",
       "1 2020-01-01                 WN                6276    ONT  SFO   \n",
       "2 2020-01-01                 WN                4598    ONT  SJC   \n",
       "3 2020-01-01                 WN                4761    ONT  SJC   \n",
       "4 2020-01-01                 WN                5162    ONT  SJC   \n",
       "\n",
       "   flight_delays_predictions  \n",
       "0                   6.439467  \n",
       "1                   5.911184  \n",
       "2                   6.510055  \n",
       "3                   6.958231  \n",
       "4                   6.187362  "
      ]
     },
     "execution_count": 25,
     "metadata": {},
     "output_type": "execute_result"
    }
   ],
   "source": [
    "# join y_pred_ridge dataframe into flights_test\n",
    "\n",
    "# Reset the index of y_pred_ridge so that it matches the index of train_flights_df\n",
    "y_pred_ridge.reset_index(drop=True, inplace=True)\n",
    "\n",
    "# from main datafram select columns needed for sample_submission\n",
    "submission_columns = flights_test[['fl_date', 'mkt_unique_carrier', 'mkt_carrier_fl_num', 'origin', 'dest']]\n",
    "\n",
    "# Concatenate the dataframes\n",
    "submission = pd.concat([submission_columns, y_pred_ridge], axis=1)\n",
    "\n",
    "# View the merged dataframe\n",
    "submission.head()"
   ]
  },
  {
   "cell_type": "code",
   "execution_count": 28,
   "metadata": {
    "tags": []
   },
   "outputs": [],
   "source": [
    "# filter the DataFrame to show only the first 7 days of January 2020\n",
    "submission_final = submission.query(\"fl_date >= '2020-01-01' and fl_date < '2020-01-08'\")"
   ]
  },
  {
   "cell_type": "code",
   "execution_count": 30,
   "metadata": {
    "tags": []
   },
   "outputs": [
    {
     "data": {
      "text/html": [
       "<div>\n",
       "<style scoped>\n",
       "    .dataframe tbody tr th:only-of-type {\n",
       "        vertical-align: middle;\n",
       "    }\n",
       "\n",
       "    .dataframe tbody tr th {\n",
       "        vertical-align: top;\n",
       "    }\n",
       "\n",
       "    .dataframe thead th {\n",
       "        text-align: right;\n",
       "    }\n",
       "</style>\n",
       "<table border=\"1\" class=\"dataframe\">\n",
       "  <thead>\n",
       "    <tr style=\"text-align: right;\">\n",
       "      <th></th>\n",
       "      <th>fl_date</th>\n",
       "      <th>mkt_unique_carrier</th>\n",
       "      <th>mkt_carrier_fl_num</th>\n",
       "      <th>origin</th>\n",
       "      <th>dest</th>\n",
       "      <th>flight_delays_predictions</th>\n",
       "    </tr>\n",
       "  </thead>\n",
       "  <tbody>\n",
       "    <tr>\n",
       "      <th>0</th>\n",
       "      <td>2020-01-01</td>\n",
       "      <td>WN</td>\n",
       "      <td>5888</td>\n",
       "      <td>ONT</td>\n",
       "      <td>SFO</td>\n",
       "      <td>6.439467</td>\n",
       "    </tr>\n",
       "    <tr>\n",
       "      <th>1</th>\n",
       "      <td>2020-01-01</td>\n",
       "      <td>WN</td>\n",
       "      <td>6276</td>\n",
       "      <td>ONT</td>\n",
       "      <td>SFO</td>\n",
       "      <td>5.911184</td>\n",
       "    </tr>\n",
       "    <tr>\n",
       "      <th>2</th>\n",
       "      <td>2020-01-01</td>\n",
       "      <td>WN</td>\n",
       "      <td>4598</td>\n",
       "      <td>ONT</td>\n",
       "      <td>SJC</td>\n",
       "      <td>6.510055</td>\n",
       "    </tr>\n",
       "    <tr>\n",
       "      <th>3</th>\n",
       "      <td>2020-01-01</td>\n",
       "      <td>WN</td>\n",
       "      <td>4761</td>\n",
       "      <td>ONT</td>\n",
       "      <td>SJC</td>\n",
       "      <td>6.958231</td>\n",
       "    </tr>\n",
       "    <tr>\n",
       "      <th>4</th>\n",
       "      <td>2020-01-01</td>\n",
       "      <td>WN</td>\n",
       "      <td>5162</td>\n",
       "      <td>ONT</td>\n",
       "      <td>SJC</td>\n",
       "      <td>6.187362</td>\n",
       "    </tr>\n",
       "    <tr>\n",
       "      <th>...</th>\n",
       "      <td>...</td>\n",
       "      <td>...</td>\n",
       "      <td>...</td>\n",
       "      <td>...</td>\n",
       "      <td>...</td>\n",
       "      <td>...</td>\n",
       "    </tr>\n",
       "    <tr>\n",
       "      <th>150618</th>\n",
       "      <td>2020-01-07</td>\n",
       "      <td>DL</td>\n",
       "      <td>4813</td>\n",
       "      <td>DTW</td>\n",
       "      <td>JFK</td>\n",
       "      <td>NaN</td>\n",
       "    </tr>\n",
       "    <tr>\n",
       "      <th>150619</th>\n",
       "      <td>2020-01-07</td>\n",
       "      <td>DL</td>\n",
       "      <td>4814</td>\n",
       "      <td>GSP</td>\n",
       "      <td>LGA</td>\n",
       "      <td>NaN</td>\n",
       "    </tr>\n",
       "    <tr>\n",
       "      <th>150620</th>\n",
       "      <td>2020-01-07</td>\n",
       "      <td>DL</td>\n",
       "      <td>4815</td>\n",
       "      <td>ATL</td>\n",
       "      <td>XNA</td>\n",
       "      <td>NaN</td>\n",
       "    </tr>\n",
       "    <tr>\n",
       "      <th>150621</th>\n",
       "      <td>2020-01-07</td>\n",
       "      <td>DL</td>\n",
       "      <td>4815</td>\n",
       "      <td>XNA</td>\n",
       "      <td>ATL</td>\n",
       "      <td>NaN</td>\n",
       "    </tr>\n",
       "    <tr>\n",
       "      <th>150622</th>\n",
       "      <td>2020-01-07</td>\n",
       "      <td>DL</td>\n",
       "      <td>4816</td>\n",
       "      <td>PWM</td>\n",
       "      <td>LGA</td>\n",
       "      <td>NaN</td>\n",
       "    </tr>\n",
       "  </tbody>\n",
       "</table>\n",
       "<p>150623 rows × 6 columns</p>\n",
       "</div>"
      ],
      "text/plain": [
       "          fl_date mkt_unique_carrier  mkt_carrier_fl_num origin dest  \\\n",
       "0      2020-01-01                 WN                5888    ONT  SFO   \n",
       "1      2020-01-01                 WN                6276    ONT  SFO   \n",
       "2      2020-01-01                 WN                4598    ONT  SJC   \n",
       "3      2020-01-01                 WN                4761    ONT  SJC   \n",
       "4      2020-01-01                 WN                5162    ONT  SJC   \n",
       "...           ...                ...                 ...    ...  ...   \n",
       "150618 2020-01-07                 DL                4813    DTW  JFK   \n",
       "150619 2020-01-07                 DL                4814    GSP  LGA   \n",
       "150620 2020-01-07                 DL                4815    ATL  XNA   \n",
       "150621 2020-01-07                 DL                4815    XNA  ATL   \n",
       "150622 2020-01-07                 DL                4816    PWM  LGA   \n",
       "\n",
       "        flight_delays_predictions  \n",
       "0                        6.439467  \n",
       "1                        5.911184  \n",
       "2                        6.510055  \n",
       "3                        6.958231  \n",
       "4                        6.187362  \n",
       "...                           ...  \n",
       "150618                        NaN  \n",
       "150619                        NaN  \n",
       "150620                        NaN  \n",
       "150621                        NaN  \n",
       "150622                        NaN  \n",
       "\n",
       "[150623 rows x 6 columns]"
      ]
     },
     "execution_count": 30,
     "metadata": {},
     "output_type": "execute_result"
    }
   ],
   "source": [
    "submission_final"
   ]
  },
  {
   "cell_type": "code",
   "execution_count": 33,
   "metadata": {
    "tags": []
   },
   "outputs": [],
   "source": [
    "# save above dataframe as csv into main project folder\n",
    "\n",
    "import os\n",
    "\n",
    "file_path = os.path.join(os.getcwd(), 'submission_final.csv')\n",
    "submission_final.to_csv(file_path, index=False)"
   ]
  },
  {
   "cell_type": "markdown",
   "metadata": {},
   "source": [
    "======================================================================\n",
    "## Stretch Tasks"
   ]
  },
  {
   "cell_type": "markdown",
   "metadata": {},
   "source": [
    "### Multiclass Classification"
   ]
  },
  {
   "cell_type": "markdown",
   "metadata": {},
   "source": [
    "The target variables are **CARRIER_DELAY, WEATHER_DELAY, NAS_DELAY, SECURITY_DELAY, LATE_AIRCRAFT_DELAY**. We need to do additional transformations because these variables are not binary but continuos. For each flight that was delayed, we need to have one of these variables as 1 and others 0.\n",
    "\n",
    "It can happen that we have two types of delays with more than 0 minutes. In this case, take the bigger one as 1 and others as 0."
   ]
  },
  {
   "cell_type": "code",
   "execution_count": null,
   "metadata": {},
   "outputs": [],
   "source": []
  },
  {
   "cell_type": "code",
   "execution_count": null,
   "metadata": {},
   "outputs": [],
   "source": []
  },
  {
   "cell_type": "code",
   "execution_count": null,
   "metadata": {},
   "outputs": [],
   "source": []
  },
  {
   "cell_type": "markdown",
   "metadata": {},
   "source": [
    "### Binary Classification"
   ]
  },
  {
   "cell_type": "markdown",
   "metadata": {},
   "source": [
    "The target variable is **CANCELLED**. The main problem here is going to be huge class imbalance. We have only very little cancelled flights with comparison to all flights. It is important to do the right sampling before training and to choose correct evaluation metrics."
   ]
  },
  {
   "cell_type": "code",
   "execution_count": null,
   "metadata": {},
   "outputs": [],
   "source": []
  },
  {
   "cell_type": "code",
   "execution_count": null,
   "metadata": {},
   "outputs": [],
   "source": []
  },
  {
   "cell_type": "code",
   "execution_count": null,
   "metadata": {},
   "outputs": [],
   "source": []
  }
 ],
 "metadata": {
  "kernelspec": {
   "display_name": "Python 3 (ipykernel)",
   "language": "python",
   "name": "python3"
  },
  "language_info": {
   "codemirror_mode": {
    "name": "ipython",
    "version": 3
   },
   "file_extension": ".py",
   "mimetype": "text/x-python",
   "name": "python",
   "nbconvert_exporter": "python",
   "pygments_lexer": "ipython3",
   "version": "3.10.9"
  }
 },
 "nbformat": 4,
 "nbformat_minor": 4
}
